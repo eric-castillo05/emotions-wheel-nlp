{
 "cells": [
  {
   "cell_type": "code",
   "execution_count": 43,
   "id": "05b1f98d-aacd-49cc-8886-4d88883a7a4a",
   "metadata": {
    "tags": []
   },
   "outputs": [],
   "source": [
    "import polars as pl\n",
    "import spacy\n",
    "from datasets import load_dataset\n",
    "from collections import Counter\n",
    "import seaborn as sns\n",
    "import matplotlib.pyplot as plt"
   ]
  },
  {
   "cell_type": "code",
   "execution_count": 18,
   "id": "c782296a-cc14-49cf-8a9f-0f0fe889438a",
   "metadata": {
    "tags": []
   },
   "outputs": [],
   "source": [
    "ds = load_dataset(\"Jsevisal/go_emotions_wheel\")"
   ]
  },
  {
   "cell_type": "code",
   "execution_count": 19,
   "id": "7cac9581-c617-4011-97a7-849031dacdad",
   "metadata": {
    "tags": []
   },
   "outputs": [],
   "source": [
    "df = pl.from_dicts(ds['train'][:])"
   ]
  },
  {
   "cell_type": "code",
   "execution_count": null,
   "id": "7ea6e8f0-8d24-43e9-b87f-fe8a9a1f1acf",
   "metadata": {},
   "outputs": [],
   "source": [
    "!python3 -m spacy download en_core_web_lg"
   ]
  },
  {
   "cell_type": "code",
   "execution_count": 20,
   "id": "f0375b46-4d88-4600-b83f-6804b776a8f2",
   "metadata": {
    "tags": []
   },
   "outputs": [],
   "source": [
    "nlp = spacy.load('en_core_web_lg')"
   ]
  },
  {
   "cell_type": "code",
   "execution_count": 21,
   "id": "ed3ffc07-2a08-48ad-939c-476db377c678",
   "metadata": {
    "tags": []
   },
   "outputs": [],
   "source": [
    "docs = list(nlp.pipe(df.select('text').to_series().to_list()))"
   ]
  },
  {
   "cell_type": "code",
   "execution_count": 24,
   "id": "2e4e13d2-d2da-4eb3-bdd5-be4180bb5625",
   "metadata": {
    "tags": []
   },
   "outputs": [],
   "source": [
    "unigrams = [\n",
    "    token.text.lower() for doc in docs for token in doc \n",
    "    if not token.is_stop and not token.is_punct and not token.is_space\n",
    "]\n",
    "\n",
    "unigram_counts = Counter(unigrams)"
   ]
  },
  {
   "cell_type": "code",
   "execution_count": 25,
   "id": "50658bd7-90a7-448b-9178-e5e5293a8f2f",
   "metadata": {
    "tags": []
   },
   "outputs": [],
   "source": [
    "df_unigram_counts = pl.DataFrame(\n",
    "    data = unigram_counts.most_common(10),\n",
    "    schema = ['word', 'count'],\n",
    "    orient = 'row'\n",
    ")"
   ]
  },
  {
   "cell_type": "code",
   "execution_count": 26,
   "id": "39011bd4-77a5-43f7-b1f8-059afdfad08d",
   "metadata": {
    "tags": []
   },
   "outputs": [],
   "source": [
    "# temp = df.select('text').to_series().to_list()\n",
    "temp = df_unigram_counts.select('word').to_series().to_list()"
   ]
  },
  {
   "cell_type": "code",
   "execution_count": 27,
   "id": "76f81a1a-3daa-4784-aef0-f4cbcd5742fe",
   "metadata": {
    "tags": []
   },
   "outputs": [],
   "source": [
    "from sklearn.feature_extraction.text import TfidfVectorizer"
   ]
  },
  {
   "cell_type": "code",
   "execution_count": 28,
   "id": "323811c6-9c33-47b4-9548-fae4364baa0d",
   "metadata": {
    "tags": []
   },
   "outputs": [],
   "source": [
    "tfidf = TfidfVectorizer()"
   ]
  },
  {
   "cell_type": "code",
   "execution_count": 29,
   "id": "2dcd3c5e-be67-4ac5-814a-4591f182f728",
   "metadata": {
    "tags": []
   },
   "outputs": [],
   "source": [
    "res = tfidf.fit_transform(temp)"
   ]
  },
  {
   "cell_type": "markdown",
   "id": "a1dc1689-3e3f-469d-8b85-1357e30b5e9c",
   "metadata": {},
   "source": [
    "# Get idf values\n",
    "\n",
    "**get_feature_names_out(input_features=None)**\n",
    "\n",
    "Get output feature names for transformation."
   ]
  },
  {
   "cell_type": "code",
   "execution_count": 30,
   "id": "cdc82192-eff2-4a09-ac03-4eab25c274c0",
   "metadata": {
    "tags": []
   },
   "outputs": [],
   "source": [
    "temp_idf_values = [] \n",
    "for a, b in zip(tfidf.get_feature_names_out(), tfidf.idf_):\n",
    "    # print(f\"{a} : {b}\")\n",
    "    temp_idf_values.append([a, b])"
   ]
  },
  {
   "cell_type": "code",
   "execution_count": 31,
   "id": "e863bfe5-e1b9-400a-9c26-4a817967b296",
   "metadata": {
    "tags": []
   },
   "outputs": [],
   "source": [
    "df_idf_values = pl.DataFrame(data = temp_idf_values, schema = ['a', 'b'], orient = 'row')"
   ]
  },
  {
   "cell_type": "code",
   "execution_count": 32,
   "id": "31c00e23-17b5-4d0a-8199-5217d528c17d",
   "metadata": {
    "tags": []
   },
   "outputs": [
    {
     "data": {
      "text/html": [
       "<div><style>\n",
       ".dataframe > thead > tr,\n",
       ".dataframe > tbody > tr {\n",
       "  text-align: right;\n",
       "  white-space: pre-wrap;\n",
       "}\n",
       "</style>\n",
       "<small>shape: (5, 2)</small><table border=\"1\" class=\"dataframe\"><thead><tr><th>a</th><th>b</th></tr><tr><td>str</td><td>f64</td></tr></thead><tbody><tr><td>&quot;good&quot;</td><td>2.704748</td></tr><tr><td>&quot;got&quot;</td><td>2.704748</td></tr><tr><td>&quot;know&quot;</td><td>2.704748</td></tr><tr><td>&quot;like&quot;</td><td>2.704748</td></tr><tr><td>&quot;lol&quot;</td><td>2.704748</td></tr></tbody></table></div>"
      ],
      "text/plain": [
       "shape: (5, 2)\n",
       "┌──────┬──────────┐\n",
       "│ a    ┆ b        │\n",
       "│ ---  ┆ ---      │\n",
       "│ str  ┆ f64      │\n",
       "╞══════╪══════════╡\n",
       "│ good ┆ 2.704748 │\n",
       "│ got  ┆ 2.704748 │\n",
       "│ know ┆ 2.704748 │\n",
       "│ like ┆ 2.704748 │\n",
       "│ lol  ┆ 2.704748 │\n",
       "└──────┴──────────┘"
      ]
     },
     "execution_count": 32,
     "metadata": {},
     "output_type": "execute_result"
    }
   ],
   "source": [
    "df_idf_values.head()"
   ]
  },
  {
   "cell_type": "markdown",
   "id": "fdfe4421-b5aa-4b84-b70f-669e4aa28d81",
   "metadata": {},
   "source": [
    "# get indexing\n",
    "\n",
    "\n",
    "**vocabulary_** : *dict*:\n",
    "\n",
    "A mapping of terms to feature indices."
   ]
  },
  {
   "cell_type": "code",
   "execution_count": 33,
   "id": "fb1cae35-b030-4a7d-91fb-18a8903c1a94",
   "metadata": {
    "tags": []
   },
   "outputs": [],
   "source": [
    "temp_vocabulary = []\n",
    "for v in tfidf.vocabulary_.keys():\n",
    "    # print(tfidf.vocabulary_[v])\n",
    "    temp_vocabulary.append([v, tfidf.vocabulary_[v]])"
   ]
  },
  {
   "cell_type": "code",
   "execution_count": 34,
   "id": "d3b021de-f945-47a6-8bbd-67827a53b8fe",
   "metadata": {
    "tags": []
   },
   "outputs": [],
   "source": [
    "df_vocabulary = pl.DataFrame(data = temp_vocabulary, schema = ['word', 'index'], orient = 'row')"
   ]
  },
  {
   "cell_type": "code",
   "execution_count": 35,
   "id": "7b9309a1-bf7c-4eeb-a2c9-7a76b8cfa7f0",
   "metadata": {
    "tags": []
   },
   "outputs": [
    {
     "data": {
      "text/html": [
       "<div><style>\n",
       ".dataframe > thead > tr,\n",
       ".dataframe > tbody > tr {\n",
       "  text-align: right;\n",
       "  white-space: pre-wrap;\n",
       "}\n",
       "</style>\n",
       "<small>shape: (5, 2)</small><table border=\"1\" class=\"dataframe\"><thead><tr><th>word</th><th>index</th></tr><tr><td>str</td><td>i64</td></tr></thead><tbody><tr><td>&quot;like&quot;</td><td>3</td></tr><tr><td>&quot;love&quot;</td><td>5</td></tr><tr><td>&quot;people&quot;</td><td>6</td></tr><tr><td>&quot;good&quot;</td><td>0</td></tr><tr><td>&quot;think&quot;</td><td>8</td></tr></tbody></table></div>"
      ],
      "text/plain": [
       "shape: (5, 2)\n",
       "┌────────┬───────┐\n",
       "│ word   ┆ index │\n",
       "│ ---    ┆ ---   │\n",
       "│ str    ┆ i64   │\n",
       "╞════════╪═══════╡\n",
       "│ like   ┆ 3     │\n",
       "│ love   ┆ 5     │\n",
       "│ people ┆ 6     │\n",
       "│ good   ┆ 0     │\n",
       "│ think  ┆ 8     │\n",
       "└────────┴───────┘"
      ]
     },
     "execution_count": 35,
     "metadata": {},
     "output_type": "execute_result"
    }
   ],
   "source": [
    "df_vocabulary.head()"
   ]
  },
  {
   "cell_type": "markdown",
   "id": "014dedbe-758b-4a62-97e5-c5c8a75d6e8f",
   "metadata": {},
   "source": [
    "# Display tf-idf values"
   ]
  },
  {
   "cell_type": "code",
   "execution_count": 36,
   "id": "30df9cb1-b8aa-40eb-b8f1-c76410704e41",
   "metadata": {
    "tags": []
   },
   "outputs": [
    {
     "name": "stdout",
     "output_type": "stream",
     "text": [
      "[[0. 0. 0. 1. 0. 0. 0. 0. 0. 0.]\n",
      " [0. 0. 0. 0. 0. 1. 0. 0. 0. 0.]\n",
      " [0. 0. 0. 0. 0. 0. 1. 0. 0. 0.]\n",
      " [1. 0. 0. 0. 0. 0. 0. 0. 0. 0.]\n",
      " [0. 0. 0. 0. 0. 0. 0. 0. 1. 0.]\n",
      " [0. 0. 1. 0. 0. 0. 0. 0. 0. 0.]\n",
      " [0. 0. 0. 0. 0. 0. 0. 1. 0. 0.]\n",
      " [0. 0. 0. 0. 0. 0. 0. 0. 0. 1.]\n",
      " [0. 0. 0. 0. 1. 0. 0. 0. 0. 0.]\n",
      " [0. 1. 0. 0. 0. 0. 0. 0. 0. 0.]]\n"
     ]
    }
   ],
   "source": [
    "print(res.toarray())"
   ]
  },
  {
   "cell_type": "code",
   "execution_count": 37,
   "id": "82a72fd8-c621-4bdc-884d-adb07e15ab28",
   "metadata": {
    "tags": []
   },
   "outputs": [
    {
     "name": "stdout",
     "output_type": "stream",
     "text": [
      "  (np.int32(0), np.int32(3))\t1.0\n",
      "  (np.int32(1), np.int32(5))\t1.0\n",
      "  (np.int32(2), np.int32(6))\t1.0\n",
      "  (np.int32(3), np.int32(0))\t1.0\n",
      "  (np.int32(4), np.int32(8))\t1.0\n",
      "  (np.int32(5), np.int32(2))\t1.0\n",
      "  (np.int32(6), np.int32(7))\t1.0\n",
      "  (np.int32(7), np.int32(9))\t1.0\n",
      "  (np.int32(8), np.int32(4))\t1.0\n",
      "  (np.int32(9), np.int32(1))\t1.0\n"
     ]
    }
   ],
   "source": [
    "print(res)"
   ]
  },
  {
   "cell_type": "markdown",
   "id": "347906ba-1c1e-4be2-99c9-91e0b434da5b",
   "metadata": {},
   "source": [
    "# Matrix form"
   ]
  },
  {
   "cell_type": "code",
   "execution_count": 38,
   "id": "930df057-e6ae-45da-aaee-698df7e504c6",
   "metadata": {
    "tags": []
   },
   "outputs": [],
   "source": [
    "from sklearn.decomposition import PCA"
   ]
  },
  {
   "cell_type": "code",
   "execution_count": 39,
   "id": "2a1beb38-a81b-4bb5-900d-61f2b964b95a",
   "metadata": {
    "tags": []
   },
   "outputs": [],
   "source": [
    "pca = PCA(n_components=2)\n",
    "pca_result = pca.fit_transform(res.toarray())"
   ]
  },
  {
   "cell_type": "code",
   "execution_count": 45,
   "id": "6c9ebf85-9e5a-446e-8761-031ecb4371f4",
   "metadata": {
    "tags": []
   },
   "outputs": [
    {
     "data": {
      "image/png": "[encoded data removed]",
      "text/plain": [
       "<Figure size 1000x500 with 1 Axes>"
      ]
     },
     "metadata": {},
     "output_type": "display_data"
    }
   ],
   "source": [
    "df_pca_result = pl.DataFrame(data = pca_result, schema = ['PC1', 'PC2'])\n",
    "plt.figure(figsize=(10, 5))\n",
    "ax =sns.scatterplot(data = df_pca_result, x = 'PC1', y = 'PC2', hue = 'PC2', palette = 'plasma')\n",
    "for i, txt in enumerate(temp):\n",
    "    plt.annotate(txt, (pca_result[i, 0], pca_result[i, 1]))\n",
    "plt.xlabel('Principal Component 1')\n",
    "plt.ylabel('Principal Component 2')\n",
    "plt.title('TF-IDF results with PCA')\n",
    "plt.savefig('img/tfidf-pca.png', dpi = 400)\n",
    "plt.show()"
   ]
  },
  {
   "cell_type": "code",
   "execution_count": 46,
   "id": "d3f20640-6cb1-4176-aa0d-b95adf69e2a0",
   "metadata": {
    "tags": []
   },
   "outputs": [],
   "source": [
    "from sklearn.manifold import TSNE"
   ]
  },
  {
   "cell_type": "code",
   "execution_count": 47,
   "id": "78dbcabd-289f-49d7-8aa2-1e8939d7df69",
   "metadata": {
    "tags": []
   },
   "outputs": [],
   "source": [
    "tsne = TSNE(n_components=2, perplexity=2, random_state=0)\n",
    "tsne_result = tsne.fit_transform(res.toarray())"
   ]
  },
  {
   "cell_type": "code",
   "execution_count": 48,
   "id": "fca84ccc-1252-485c-9731-260846109ada",
   "metadata": {
    "tags": []
   },
   "outputs": [
    {
     "data": {
      "image/png": "[encoded data removed]",
      "text/plain": [
       "<Figure size 1000x500 with 1 Axes>"
      ]
     },
     "metadata": {},
     "output_type": "display_data"
    }
   ],
   "source": [
    "df_tsne_result = pl.DataFrame(data = tsne_result, schema = ['D1', 'D2'])\n",
    "plt.figure(figsize = (10, 5))\n",
    "ax= sns.scatterplot(data = df_tsne_result, x = 'D1', y = 'D2', hue = 'D2', palette = 'plasma')\n",
    "for i, txt in enumerate(temp):\n",
    "    plt.annotate(txt, (tsne_result[i, 0], tsne_result[i, 1]))\n",
    "plt.xlabel('Dimension 1')\n",
    "plt.ylabel('Dimension 2')\n",
    "plt.title('TF-IDF with TSNE')\n",
    "plt.savefig('img/tfidf-tsne.png', dpi = 400)\n",
    "plt.show()"
   ]
  }
 ],
 "metadata": {
  "kernelspec": {
   "display_name": ".conda-default:Python",
   "language": "python",
   "name": "conda-env-.conda-default-py"
  },
  "language_info": {
   "codemirror_mode": {
    "name": "ipython",
    "version": 3
   },
   "file_extension": ".py",
   "mimetype": "text/x-python",
   "name": "python",
   "nbconvert_exporter": "python",
   "pygments_lexer": "ipython3",
   "version": "3.9.19"
  }
 },
 "nbformat": 4,
 "nbformat_minor": 5
}
