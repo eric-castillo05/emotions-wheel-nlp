{
  "cells": [
    {
      "cell_type": "markdown",
      "metadata": {
        "id": "view-in-github",
        "colab_type": "text"
      },
      "source": [
        "<a href=\"https://colab.research.google.com/github/eric-castillo05/emotions-wheel-nlp/blob/main/TF-IDF_.ipynb\" target=\"_parent\"><img src=\"https://colab.research.google.com/assets/colab-badge.svg\" alt=\"Open In Colab\"/></a>"
      ]
    },
    {
      "cell_type": "code",
      "execution_count": null,
      "id": "212eea50-722e-4b94-82f0-25fa32bb394d",
      "metadata": {
        "tags": [],
        "id": "212eea50-722e-4b94-82f0-25fa32bb394d"
      },
      "outputs": [],
      "source": [
        "import polars as pl\n",
        "import numpy as np\n",
        "import matplotlib.pyplot as plt"
      ]
    },
    {
      "cell_type": "code",
      "execution_count": null,
      "id": "019bcfcd-83bd-4e15-bdb8-7a80c03ba707",
      "metadata": {
        "tags": [],
        "id": "019bcfcd-83bd-4e15-bdb8-7a80c03ba707"
      },
      "outputs": [],
      "source": [
        "splits = {'train': 'data/train-00000-of-00001.parquet', 'validation': 'data/validation-00000-of-00001.parquet', 'test': 'data/test-00000-of-00001.parquet'}"
      ]
    },
    {
      "cell_type": "code",
      "execution_count": null,
      "id": "d237c0f3-ea40-4a6c-b3af-76930e8813bb",
      "metadata": {
        "tags": [],
        "id": "d237c0f3-ea40-4a6c-b3af-76930e8813bb"
      },
      "outputs": [],
      "source": [
        "df_train = pl.read_parquet('hf://datasets/Jsevisal/go_emotions_wheel/' + splits['train'])\n",
        "df_test = pl.read_parquet('hf://datasets/Jsevisal/go_emotions_wheel/' + splits['test'])"
      ]
    },
    {
      "cell_type": "code",
      "execution_count": null,
      "id": "67743181-d70b-456f-8adb-0059aba3e787",
      "metadata": {
        "tags": [],
        "id": "67743181-d70b-456f-8adb-0059aba3e787"
      },
      "outputs": [],
      "source": [
        "import re\n",
        "import nltk\n",
        "from nltk.corpus import stopwords\n",
        "from nltk.stem.snowball import SnowballStemmer"
      ]
    },
    {
      "cell_type": "code",
      "execution_count": null,
      "id": "58e0f0ab-26a2-4f96-9360-7dd1299436f4",
      "metadata": {
        "tags": [],
        "id": "58e0f0ab-26a2-4f96-9360-7dd1299436f4"
      },
      "outputs": [],
      "source": [
        "def decontract(sentence):\n",
        "    sentence = re.sub(r\"n\\'t\", \" not\", sentence)\n",
        "    sentence = re.sub(r\"\\'re\", \" are\", sentence)\n",
        "    sentence = re.sub(r\"\\'s\", \" is\", sentence)\n",
        "    sentence = re.sub(r\"\\'d\", \" would\", sentence)\n",
        "    sentence = re.sub(r\"\\'ll\", \" will\", sentence)\n",
        "    sentence = re.sub(r\"\\'t\", \" not\", sentence)\n",
        "    sentence = re.sub(r\"\\'ve\", \" have\", sentence)\n",
        "    sentence = re.sub(r\"\\'m\", \" am\", sentence)\n",
        "    return sentence\n",
        "\n",
        "def removePunctuation(sentence):\n",
        "    sentence = re.sub(r'[?|!|\\'|\"|#]',r'',sentence)\n",
        "    sentence = re.sub(r'[.|,|)|(|\\|/]',r' ',sentence)\n",
        "    sentence = sentence.strip()\n",
        "    sentence = sentence.replace(\"\\n\",\" \")\n",
        "    return sentence\n",
        "\n",
        "def removeNumber(sentence):\n",
        "    alpha_sent = \"\"\n",
        "    for word in sentence.split():\n",
        "        alpha_word = re.sub('[^a-z A-Z]+', '', word)\n",
        "        alpha_sent += alpha_word\n",
        "        alpha_sent += \" \"\n",
        "    alpha_sent = alpha_sent.strip()\n",
        "    return alpha_sent\n",
        "\n",
        "def removeStopWords(sentence):\n",
        "    stop_words = set(stopwords.words('english'))\n",
        "    filtered_sentence = [w for w in sentence.split() if not w.lower() in stop_words]\n",
        "    return \" \".join(filtered_sentence)\n",
        "\n",
        "def stemming(sentence):\n",
        "    stemmer = SnowballStemmer(\"english\")\n",
        "    stemmedSentence = \"\"\n",
        "    for word in sentence.split():\n",
        "        stem = stemmer.stem(word)\n",
        "        stemmedSentence += stem\n",
        "        stemmedSentence += \" \"\n",
        "    stemmedSentence = stemmedSentence.strip()\n",
        "    return stemmedSentence"
      ]
    },
    {
      "cell_type": "code",
      "execution_count": null,
      "id": "f01eba11-d57e-4cb1-a22a-e95771c6709c",
      "metadata": {
        "tags": [],
        "id": "f01eba11-d57e-4cb1-a22a-e95771c6709c"
      },
      "outputs": [],
      "source": [
        "x_train, y_train = df_train.select('text').to_series().to_list(), df_train.select('labels').to_series().to_list()\n",
        "x_test, y_test = df_test.select('text').to_series().to_list(), df_test.select('labels').to_series().to_list()"
      ]
    },
    {
      "cell_type": "code",
      "execution_count": null,
      "id": "b78eb001-727b-418e-afa0-82b662ef4168",
      "metadata": {
        "tags": [],
        "id": "b78eb001-727b-418e-afa0-82b662ef4168"
      },
      "outputs": [],
      "source": [
        "from sklearn.pipeline import FeatureUnion\n",
        "from sklearn.feature_extraction.text import TfidfVectorizer\n",
        "from sklearn.preprocessing import FunctionTransformer\n",
        "import spacy"
      ]
    },
    {
      "cell_type": "code",
      "source": [
        "!python -m spacy download en_core_web_lg"
      ],
      "metadata": {
        "collapsed": true,
        "id": "N0RvJXrNxzI6"
      },
      "id": "N0RvJXrNxzI6",
      "execution_count": null,
      "outputs": []
    },
    {
      "cell_type": "code",
      "execution_count": null,
      "id": "cf8be555-68e2-41ea-8259-43b1e9d51b81",
      "metadata": {
        "tags": [],
        "id": "cf8be555-68e2-41ea-8259-43b1e9d51b81"
      },
      "outputs": [],
      "source": [
        "nlp = spacy.load(\"en_core_web_lg\", disable=[\"parser\", \"ner\"])"
      ]
    },
    {
      "cell_type": "code",
      "execution_count": null,
      "id": "cbbae425-4757-4ce2-8527-52ccfa8c370f",
      "metadata": {
        "tags": [],
        "id": "cbbae425-4757-4ce2-8527-52ccfa8c370f"
      },
      "outputs": [],
      "source": [
        "from sklearn.preprocessing import normalize\n",
        "\n",
        "def spacy_embeddings(texts):\n",
        "    texts_processed = [decontract(t) for t in texts]\n",
        "    docs = list(nlp.pipe(texts_processed, batch_size=50))\n",
        "    vectors = np.array([doc.vector for doc in docs])\n",
        "    return normalize(vectors, norm='l2')"
      ]
    },
    {
      "cell_type": "code",
      "source": [
        "def custom_preprocess(text):\n",
        "    text = decontract(text)\n",
        "    text = removePunctuation(text)\n",
        "    text = removeNumber(text)\n",
        "    text = removeStopWords(text)\n",
        "    # text = stemming(text)\n",
        "    doc = nlp(text)\n",
        "    lemmas = [token.lemma_ for token in doc if token.lemma_ != '-PRON-']\n",
        "    return ' '.join(lemmas)"
      ],
      "metadata": {
        "id": "RDRQGGQmyKE1"
      },
      "id": "RDRQGGQmyKE1",
      "execution_count": null,
      "outputs": []
    },
    {
      "cell_type": "code",
      "source": [
        "from sklearn.pipeline import Pipeline\n",
        "from sklearn.preprocessing import StandardScaler"
      ],
      "metadata": {
        "id": "9YTbBjMc30WR"
      },
      "id": "9YTbBjMc30WR",
      "execution_count": null,
      "outputs": []
    },
    {
      "cell_type": "code",
      "source": [
        "feature_union = FeatureUnion([\n",
        "    (\"tfidf\", TfidfVectorizer(\n",
        "        preprocessor=custom_preprocess,\n",
        "        ngram_range=(1, 2),  # Bigramas balancean rendimiento y contexto\n",
        "        max_features=8000,    # Controla dimensionalidad\n",
        "        norm=\"l2\"\n",
        "    )),\n",
        "    (\"embeddings\", FunctionTransformer(\n",
        "        spacy_embeddings,\n",
        "        validate=False\n",
        "    ))\n",
        "])"
      ],
      "metadata": {
        "id": "To8vjl5hyKMy"
      },
      "id": "To8vjl5hyKMy",
      "execution_count": null,
      "outputs": []
    },
    {
      "cell_type": "code",
      "source": [
        "nltk.download('stopwords')"
      ],
      "metadata": {
        "id": "xDfcCS3ryjzk"
      },
      "id": "xDfcCS3ryjzk",
      "execution_count": null,
      "outputs": []
    },
    {
      "cell_type": "code",
      "execution_count": null,
      "id": "21e53413-cf61-4d82-b64c-dc8231e1e93b",
      "metadata": {
        "tags": [],
        "id": "21e53413-cf61-4d82-b64c-dc8231e1e93b"
      },
      "outputs": [],
      "source": [
        "x_train = feature_union.fit_transform(x_train)\n",
        "x_test = feature_union.transform(x_test)"
      ]
    },
    {
      "cell_type": "code",
      "source": [
        "x_train"
      ],
      "metadata": {
        "id": "EWcX8NyZzBqE"
      },
      "id": "EWcX8NyZzBqE",
      "execution_count": null,
      "outputs": []
    },
    {
      "cell_type": "code",
      "execution_count": null,
      "id": "e0e120e3-1425-4d7e-bbec-01a03a88b03d",
      "metadata": {
        "tags": [],
        "id": "e0e120e3-1425-4d7e-bbec-01a03a88b03d"
      },
      "outputs": [],
      "source": [
        "from sklearn.multiclass import OneVsRestClassifier\n",
        "from sklearn.ensemble import RandomForestClassifier\n",
        "from sklearn.preprocessing import MultiLabelBinarizer\n",
        "from sklearn.model_selection import cross_val_score"
      ]
    },
    {
      "cell_type": "code",
      "execution_count": null,
      "id": "3b9804d7-fb18-4317-bb66-5f8536a96153",
      "metadata": {
        "tags": [],
        "id": "3b9804d7-fb18-4317-bb66-5f8536a96153"
      },
      "outputs": [],
      "source": [
        "y_train_raw = df_train['labels'].to_list()\n",
        "y_test_raw = df_test['labels'].to_list()\n",
        "\n",
        "all_labels_combined = y_train_raw + y_test_raw\n",
        "all_unique_label_ids = sorted(list(set(item for sublist in all_labels_combined for item in sublist)))"
      ]
    },
    {
      "cell_type": "code",
      "execution_count": null,
      "id": "822e5b15-67ed-4835-9e5e-9a5ddd246c15",
      "metadata": {
        "tags": [],
        "id": "822e5b15-67ed-4835-9e5e-9a5ddd246c15"
      },
      "outputs": [],
      "source": [
        "mlb = MultiLabelBinarizer(classes=all_unique_label_ids)\n",
        "mlb.fit(all_labels_combined)\n",
        "\n",
        "y_train_multilabel = mlb.transform(y_train_raw)\n",
        "y_test_multilabel = mlb.transform(y_test_raw)"
      ]
    },
    {
      "cell_type": "code",
      "execution_count": null,
      "id": "27b92a16-18ee-446c-99f9-1c0a6f4e37f5",
      "metadata": {
        "tags": [],
        "id": "27b92a16-18ee-446c-99f9-1c0a6f4e37f5"
      },
      "outputs": [],
      "source": [
        "y_train_multilabel"
      ]
    },
    {
      "cell_type": "code",
      "execution_count": null,
      "id": "219f5b57-68a1-4da1-b055-8fc19a5d88f0",
      "metadata": {
        "tags": [],
        "id": "219f5b57-68a1-4da1-b055-8fc19a5d88f0"
      },
      "outputs": [],
      "source": [
        "x_train[0].shape"
      ]
    },
    {
      "cell_type": "code",
      "source": [
        "from sklearn.metrics import classification_report"
      ],
      "metadata": {
        "id": "2YjB_73w1QRW"
      },
      "id": "2YjB_73w1QRW",
      "execution_count": null,
      "outputs": []
    },
    {
      "cell_type": "markdown",
      "source": [
        "# Log Reg"
      ],
      "metadata": {
        "id": "rE_fd2LNCxEQ"
      },
      "id": "rE_fd2LNCxEQ"
    },
    {
      "cell_type": "code",
      "source": [
        "from sklearn.multiclass import OneVsRestClassifier\n",
        "from sklearn.linear_model import LogisticRegression"
      ],
      "metadata": {
        "id": "tXoogLaGDCrK"
      },
      "id": "tXoogLaGDCrK",
      "execution_count": null,
      "outputs": []
    },
    {
      "cell_type": "code",
      "source": [
        "lreg = LogisticRegression(multi_class='multinomial', class_weight = 'balanced', solver = 'newton-cholesky', penalty = 'l2')"
      ],
      "metadata": {
        "id": "LyHSn8FuCybs"
      },
      "id": "LyHSn8FuCybs",
      "execution_count": null,
      "outputs": []
    },
    {
      "cell_type": "code",
      "source": [
        "from sklearn.multiclass import OneVsRestClassifier"
      ],
      "metadata": {
        "id": "N3osr4L7DEE4"
      },
      "id": "N3osr4L7DEE4",
      "execution_count": null,
      "outputs": []
    },
    {
      "cell_type": "code",
      "source": [
        "model = OneVsRestClassifier(lreg)"
      ],
      "metadata": {
        "id": "HNwrqT7S2NKR"
      },
      "id": "HNwrqT7S2NKR",
      "execution_count": null,
      "outputs": []
    },
    {
      "cell_type": "code",
      "source": [
        "model.fit(x_train, y_train_multilabel)"
      ],
      "metadata": {
        "id": "cSOb7_wDDIic"
      },
      "id": "cSOb7_wDDIic",
      "execution_count": null,
      "outputs": []
    },
    {
      "cell_type": "code",
      "source": [
        "y_pred = model.predict(x_test)"
      ],
      "metadata": {
        "id": "AhYywo8kDJ1y"
      },
      "id": "AhYywo8kDJ1y",
      "execution_count": null,
      "outputs": []
    },
    {
      "cell_type": "code",
      "source": [
        "print(classification_report(y_test_multilabel, y_pred))"
      ],
      "metadata": {
        "id": "ePeqMEvoDLc_"
      },
      "id": "ePeqMEvoDLc_",
      "execution_count": null,
      "outputs": []
    },
    {
      "cell_type": "code",
      "source": [],
      "metadata": {
        "id": "38h45FyE1e1o"
      },
      "id": "38h45FyE1e1o",
      "execution_count": null,
      "outputs": []
    },
    {
      "cell_type": "code",
      "source": [],
      "metadata": {
        "id": "tZ_fQ0cZqjXD"
      },
      "id": "tZ_fQ0cZqjXD",
      "execution_count": 104,
      "outputs": []
    },
    {
      "cell_type": "code",
      "source": [],
      "metadata": {
        "id": "L2nN6PD6qjit"
      },
      "id": "L2nN6PD6qjit",
      "execution_count": null,
      "outputs": []
    }
  ],
  "metadata": {
    "kernelspec": {
      "display_name": ".conda-default:Python",
      "language": "python",
      "name": "conda-env-.conda-default-py"
    },
    "language_info": {
      "codemirror_mode": {
        "name": "ipython",
        "version": 3
      },
      "file_extension": ".py",
      "mimetype": "text/x-python",
      "name": "python",
      "nbconvert_exporter": "python",
      "pygments_lexer": "ipython3",
      "version": "3.9.19"
    },
    "colab": {
      "provenance": [],
      "gpuType": "T4",
      "include_colab_link": true
    },
    "accelerator": "GPU"
  },
  "nbformat": 4,
  "nbformat_minor": 5
}