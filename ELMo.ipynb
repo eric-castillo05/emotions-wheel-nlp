{
  "cells": [
    {
      "cell_type": "markdown",
      "metadata": {
        "id": "view-in-github",
        "colab_type": "text"
      },
      "source": [
        "<a href=\"https://colab.research.google.com/github/eric-castillo05/emotions-wheel-nlp/blob/main/ELMo.ipynb\" target=\"_parent\"><img src=\"https://colab.research.google.com/assets/colab-badge.svg\" alt=\"Open In Colab\"/></a>"
      ]
    },
    {
      "cell_type": "code",
      "source": [
        "%pip install datasets\n",
        "%pip install spacy-cleaner"
      ],
      "metadata": {
        "colab": {
          "base_uri": "https://localhost:8080/"
        },
        "id": "vusF6kj6Gu-D",
        "outputId": "46cd649a-a22f-40de-ceed-5319a07c3ea8"
      },
      "id": "vusF6kj6Gu-D",
      "execution_count": 1,
      "outputs": [
        {
          "output_type": "stream",
          "name": "stdout",
          "text": [
            "Requirement already satisfied: datasets in /usr/local/lib/python3.11/dist-packages (3.6.0)\n",
            "Requirement already satisfied: filelock in /usr/local/lib/python3.11/dist-packages (from datasets) (3.18.0)\n",
            "Requirement already satisfied: numpy>=1.17 in /usr/local/lib/python3.11/dist-packages (from datasets) (1.26.4)\n",
            "Requirement already satisfied: pyarrow>=15.0.0 in /usr/local/lib/python3.11/dist-packages (from datasets) (18.1.0)\n",
            "Requirement already satisfied: dill<0.3.9,>=0.3.0 in /usr/local/lib/python3.11/dist-packages (from datasets) (0.3.7)\n",
            "Requirement already satisfied: pandas in /usr/local/lib/python3.11/dist-packages (from datasets) (2.2.2)\n",
            "Requirement already satisfied: requests>=2.32.2 in /usr/local/lib/python3.11/dist-packages (from datasets) (2.32.3)\n",
            "Requirement already satisfied: tqdm>=4.66.3 in /usr/local/lib/python3.11/dist-packages (from datasets) (4.66.6)\n",
            "Requirement already satisfied: xxhash in /usr/local/lib/python3.11/dist-packages (from datasets) (3.5.0)\n",
            "Requirement already satisfied: multiprocess<0.70.17 in /usr/local/lib/python3.11/dist-packages (from datasets) (0.70.15)\n",
            "Requirement already satisfied: fsspec<=2025.3.0,>=2023.1.0 in /usr/local/lib/python3.11/dist-packages (from fsspec[http]<=2025.3.0,>=2023.1.0->datasets) (2025.3.0)\n",
            "Requirement already satisfied: huggingface-hub>=0.24.0 in /usr/local/lib/python3.11/dist-packages (from datasets) (0.33.0)\n",
            "Requirement already satisfied: packaging in /usr/local/lib/python3.11/dist-packages (from datasets) (24.2)\n",
            "Requirement already satisfied: pyyaml>=5.1 in /usr/local/lib/python3.11/dist-packages (from datasets) (6.0.2)\n",
            "Requirement already satisfied: aiohttp!=4.0.0a0,!=4.0.0a1 in /usr/local/lib/python3.11/dist-packages (from fsspec[http]<=2025.3.0,>=2023.1.0->datasets) (3.11.15)\n",
            "Requirement already satisfied: typing-extensions>=3.7.4.3 in /usr/local/lib/python3.11/dist-packages (from huggingface-hub>=0.24.0->datasets) (4.14.0)\n",
            "Requirement already satisfied: hf-xet<2.0.0,>=1.1.2 in /usr/local/lib/python3.11/dist-packages (from huggingface-hub>=0.24.0->datasets) (1.1.5)\n",
            "Requirement already satisfied: charset-normalizer<4,>=2 in /usr/local/lib/python3.11/dist-packages (from requests>=2.32.2->datasets) (3.4.2)\n",
            "Requirement already satisfied: idna<4,>=2.5 in /usr/local/lib/python3.11/dist-packages (from requests>=2.32.2->datasets) (3.10)\n",
            "Requirement already satisfied: urllib3<3,>=1.21.1 in /usr/local/lib/python3.11/dist-packages (from requests>=2.32.2->datasets) (2.4.0)\n",
            "Requirement already satisfied: certifi>=2017.4.17 in /usr/local/lib/python3.11/dist-packages (from requests>=2.32.2->datasets) (2025.6.15)\n",
            "Requirement already satisfied: python-dateutil>=2.8.2 in /usr/local/lib/python3.11/dist-packages (from pandas->datasets) (2.9.0.post0)\n",
            "Requirement already satisfied: pytz>=2020.1 in /usr/local/lib/python3.11/dist-packages (from pandas->datasets) (2025.2)\n",
            "Requirement already satisfied: tzdata>=2022.7 in /usr/local/lib/python3.11/dist-packages (from pandas->datasets) (2025.2)\n",
            "Requirement already satisfied: aiohappyeyeballs>=2.3.0 in /usr/local/lib/python3.11/dist-packages (from aiohttp!=4.0.0a0,!=4.0.0a1->fsspec[http]<=2025.3.0,>=2023.1.0->datasets) (2.6.1)\n",
            "Requirement already satisfied: aiosignal>=1.1.2 in /usr/local/lib/python3.11/dist-packages (from aiohttp!=4.0.0a0,!=4.0.0a1->fsspec[http]<=2025.3.0,>=2023.1.0->datasets) (1.3.2)\n",
            "Requirement already satisfied: attrs>=17.3.0 in /usr/local/lib/python3.11/dist-packages (from aiohttp!=4.0.0a0,!=4.0.0a1->fsspec[http]<=2025.3.0,>=2023.1.0->datasets) (25.3.0)\n",
            "Requirement already satisfied: frozenlist>=1.1.1 in /usr/local/lib/python3.11/dist-packages (from aiohttp!=4.0.0a0,!=4.0.0a1->fsspec[http]<=2025.3.0,>=2023.1.0->datasets) (1.7.0)\n",
            "Requirement already satisfied: multidict<7.0,>=4.5 in /usr/local/lib/python3.11/dist-packages (from aiohttp!=4.0.0a0,!=4.0.0a1->fsspec[http]<=2025.3.0,>=2023.1.0->datasets) (6.4.4)\n",
            "Requirement already satisfied: propcache>=0.2.0 in /usr/local/lib/python3.11/dist-packages (from aiohttp!=4.0.0a0,!=4.0.0a1->fsspec[http]<=2025.3.0,>=2023.1.0->datasets) (0.3.2)\n",
            "Requirement already satisfied: yarl<2.0,>=1.17.0 in /usr/local/lib/python3.11/dist-packages (from aiohttp!=4.0.0a0,!=4.0.0a1->fsspec[http]<=2025.3.0,>=2023.1.0->datasets) (1.20.1)\n",
            "Requirement already satisfied: six>=1.5 in /usr/local/lib/python3.11/dist-packages (from python-dateutil>=2.8.2->pandas->datasets) (1.17.0)\n",
            "Requirement already satisfied: spacy-cleaner in /usr/local/lib/python3.11/dist-packages (3.2.1)\n",
            "Requirement already satisfied: spacy<3.8.0,>=3.7.2 in /usr/local/lib/python3.11/dist-packages (from spacy-cleaner) (3.7.5)\n",
            "Requirement already satisfied: spacy-lookups-data<1.1.0,>=1.0.5 in /usr/local/lib/python3.11/dist-packages (from spacy-cleaner) (1.0.5)\n",
            "Requirement already satisfied: tqdm<4.67.0,>=4.66.1 in /usr/local/lib/python3.11/dist-packages (from spacy-cleaner) (4.66.6)\n",
            "Requirement already satisfied: types-tqdm<5.0.0.0,>=4.66.0.5 in /usr/local/lib/python3.11/dist-packages (from spacy-cleaner) (4.67.0.20250516)\n",
            "Requirement already satisfied: spacy-legacy<3.1.0,>=3.0.11 in /usr/local/lib/python3.11/dist-packages (from spacy<3.8.0,>=3.7.2->spacy-cleaner) (3.0.12)\n",
            "Requirement already satisfied: spacy-loggers<2.0.0,>=1.0.0 in /usr/local/lib/python3.11/dist-packages (from spacy<3.8.0,>=3.7.2->spacy-cleaner) (1.0.5)\n",
            "Requirement already satisfied: murmurhash<1.1.0,>=0.28.0 in /usr/local/lib/python3.11/dist-packages (from spacy<3.8.0,>=3.7.2->spacy-cleaner) (1.0.13)\n",
            "Requirement already satisfied: cymem<2.1.0,>=2.0.2 in /usr/local/lib/python3.11/dist-packages (from spacy<3.8.0,>=3.7.2->spacy-cleaner) (2.0.11)\n",
            "Requirement already satisfied: preshed<3.1.0,>=3.0.2 in /usr/local/lib/python3.11/dist-packages (from spacy<3.8.0,>=3.7.2->spacy-cleaner) (3.0.10)\n",
            "Requirement already satisfied: thinc<8.3.0,>=8.2.2 in /usr/local/lib/python3.11/dist-packages (from spacy<3.8.0,>=3.7.2->spacy-cleaner) (8.2.5)\n",
            "Requirement already satisfied: wasabi<1.2.0,>=0.9.1 in /usr/local/lib/python3.11/dist-packages (from spacy<3.8.0,>=3.7.2->spacy-cleaner) (1.1.3)\n",
            "Requirement already satisfied: srsly<3.0.0,>=2.4.3 in /usr/local/lib/python3.11/dist-packages (from spacy<3.8.0,>=3.7.2->spacy-cleaner) (2.5.1)\n",
            "Requirement already satisfied: catalogue<2.1.0,>=2.0.6 in /usr/local/lib/python3.11/dist-packages (from spacy<3.8.0,>=3.7.2->spacy-cleaner) (2.0.10)\n",
            "Requirement already satisfied: weasel<0.5.0,>=0.1.0 in /usr/local/lib/python3.11/dist-packages (from spacy<3.8.0,>=3.7.2->spacy-cleaner) (0.4.1)\n",
            "Requirement already satisfied: typer<1.0.0,>=0.3.0 in /usr/local/lib/python3.11/dist-packages (from spacy<3.8.0,>=3.7.2->spacy-cleaner) (0.16.0)\n",
            "Requirement already satisfied: requests<3.0.0,>=2.13.0 in /usr/local/lib/python3.11/dist-packages (from spacy<3.8.0,>=3.7.2->spacy-cleaner) (2.32.3)\n",
            "Requirement already satisfied: pydantic!=1.8,!=1.8.1,<3.0.0,>=1.7.4 in /usr/local/lib/python3.11/dist-packages (from spacy<3.8.0,>=3.7.2->spacy-cleaner) (2.11.7)\n",
            "Requirement already satisfied: jinja2 in /usr/local/lib/python3.11/dist-packages (from spacy<3.8.0,>=3.7.2->spacy-cleaner) (3.1.6)\n",
            "Requirement already satisfied: setuptools in /usr/local/lib/python3.11/dist-packages (from spacy<3.8.0,>=3.7.2->spacy-cleaner) (75.2.0)\n",
            "Requirement already satisfied: packaging>=20.0 in /usr/local/lib/python3.11/dist-packages (from spacy<3.8.0,>=3.7.2->spacy-cleaner) (24.2)\n",
            "Requirement already satisfied: langcodes<4.0.0,>=3.2.0 in /usr/local/lib/python3.11/dist-packages (from spacy<3.8.0,>=3.7.2->spacy-cleaner) (3.5.0)\n",
            "Requirement already satisfied: numpy>=1.19.0 in /usr/local/lib/python3.11/dist-packages (from spacy<3.8.0,>=3.7.2->spacy-cleaner) (1.26.4)\n",
            "Requirement already satisfied: types-requests in /usr/local/lib/python3.11/dist-packages (from types-tqdm<5.0.0.0,>=4.66.0.5->spacy-cleaner) (2.32.4.20250611)\n",
            "Requirement already satisfied: language-data>=1.2 in /usr/local/lib/python3.11/dist-packages (from langcodes<4.0.0,>=3.2.0->spacy<3.8.0,>=3.7.2->spacy-cleaner) (1.3.0)\n",
            "Requirement already satisfied: annotated-types>=0.6.0 in /usr/local/lib/python3.11/dist-packages (from pydantic!=1.8,!=1.8.1,<3.0.0,>=1.7.4->spacy<3.8.0,>=3.7.2->spacy-cleaner) (0.7.0)\n",
            "Requirement already satisfied: pydantic-core==2.33.2 in /usr/local/lib/python3.11/dist-packages (from pydantic!=1.8,!=1.8.1,<3.0.0,>=1.7.4->spacy<3.8.0,>=3.7.2->spacy-cleaner) (2.33.2)\n",
            "Requirement already satisfied: typing-extensions>=4.12.2 in /usr/local/lib/python3.11/dist-packages (from pydantic!=1.8,!=1.8.1,<3.0.0,>=1.7.4->spacy<3.8.0,>=3.7.2->spacy-cleaner) (4.14.0)\n",
            "Requirement already satisfied: typing-inspection>=0.4.0 in /usr/local/lib/python3.11/dist-packages (from pydantic!=1.8,!=1.8.1,<3.0.0,>=1.7.4->spacy<3.8.0,>=3.7.2->spacy-cleaner) (0.4.1)\n",
            "Requirement already satisfied: charset-normalizer<4,>=2 in /usr/local/lib/python3.11/dist-packages (from requests<3.0.0,>=2.13.0->spacy<3.8.0,>=3.7.2->spacy-cleaner) (3.4.2)\n",
            "Requirement already satisfied: idna<4,>=2.5 in /usr/local/lib/python3.11/dist-packages (from requests<3.0.0,>=2.13.0->spacy<3.8.0,>=3.7.2->spacy-cleaner) (3.10)\n",
            "Requirement already satisfied: urllib3<3,>=1.21.1 in /usr/local/lib/python3.11/dist-packages (from requests<3.0.0,>=2.13.0->spacy<3.8.0,>=3.7.2->spacy-cleaner) (2.4.0)\n",
            "Requirement already satisfied: certifi>=2017.4.17 in /usr/local/lib/python3.11/dist-packages (from requests<3.0.0,>=2.13.0->spacy<3.8.0,>=3.7.2->spacy-cleaner) (2025.6.15)\n",
            "Requirement already satisfied: blis<0.8.0,>=0.7.8 in /usr/local/lib/python3.11/dist-packages (from thinc<8.3.0,>=8.2.2->spacy<3.8.0,>=3.7.2->spacy-cleaner) (0.7.11)\n",
            "Requirement already satisfied: confection<1.0.0,>=0.0.1 in /usr/local/lib/python3.11/dist-packages (from thinc<8.3.0,>=8.2.2->spacy<3.8.0,>=3.7.2->spacy-cleaner) (0.1.5)\n",
            "Requirement already satisfied: click>=8.0.0 in /usr/local/lib/python3.11/dist-packages (from typer<1.0.0,>=0.3.0->spacy<3.8.0,>=3.7.2->spacy-cleaner) (8.2.1)\n",
            "Requirement already satisfied: shellingham>=1.3.0 in /usr/local/lib/python3.11/dist-packages (from typer<1.0.0,>=0.3.0->spacy<3.8.0,>=3.7.2->spacy-cleaner) (1.5.4)\n",
            "Requirement already satisfied: rich>=10.11.0 in /usr/local/lib/python3.11/dist-packages (from typer<1.0.0,>=0.3.0->spacy<3.8.0,>=3.7.2->spacy-cleaner) (13.9.4)\n",
            "Requirement already satisfied: cloudpathlib<1.0.0,>=0.7.0 in /usr/local/lib/python3.11/dist-packages (from weasel<0.5.0,>=0.1.0->spacy<3.8.0,>=3.7.2->spacy-cleaner) (0.21.1)\n",
            "Requirement already satisfied: smart-open<8.0.0,>=5.2.1 in /usr/local/lib/python3.11/dist-packages (from weasel<0.5.0,>=0.1.0->spacy<3.8.0,>=3.7.2->spacy-cleaner) (7.1.0)\n",
            "Requirement already satisfied: MarkupSafe>=2.0 in /usr/local/lib/python3.11/dist-packages (from jinja2->spacy<3.8.0,>=3.7.2->spacy-cleaner) (3.0.2)\n",
            "Requirement already satisfied: marisa-trie>=1.1.0 in /usr/local/lib/python3.11/dist-packages (from language-data>=1.2->langcodes<4.0.0,>=3.2.0->spacy<3.8.0,>=3.7.2->spacy-cleaner) (1.2.1)\n",
            "Requirement already satisfied: markdown-it-py>=2.2.0 in /usr/local/lib/python3.11/dist-packages (from rich>=10.11.0->typer<1.0.0,>=0.3.0->spacy<3.8.0,>=3.7.2->spacy-cleaner) (3.0.0)\n",
            "Requirement already satisfied: pygments<3.0.0,>=2.13.0 in /usr/local/lib/python3.11/dist-packages (from rich>=10.11.0->typer<1.0.0,>=0.3.0->spacy<3.8.0,>=3.7.2->spacy-cleaner) (2.19.2)\n",
            "Requirement already satisfied: wrapt in /usr/local/lib/python3.11/dist-packages (from smart-open<8.0.0,>=5.2.1->weasel<0.5.0,>=0.1.0->spacy<3.8.0,>=3.7.2->spacy-cleaner) (1.17.2)\n",
            "Requirement already satisfied: mdurl~=0.1 in /usr/local/lib/python3.11/dist-packages (from markdown-it-py>=2.2.0->rich>=10.11.0->typer<1.0.0,>=0.3.0->spacy<3.8.0,>=3.7.2->spacy-cleaner) (0.1.2)\n"
          ]
        }
      ]
    },
    {
      "cell_type": "code",
      "source": [
        "import polars as pl\n",
        "from datasets import load_dataset"
      ],
      "metadata": {
        "id": "AAn_KxC0GNq0"
      },
      "id": "AAn_KxC0GNq0",
      "execution_count": 2,
      "outputs": []
    },
    {
      "cell_type": "code",
      "source": [
        "ds = load_dataset(\"Jsevisal/go_emotions_wheel\")"
      ],
      "metadata": {
        "colab": {
          "base_uri": "https://localhost:8080/"
        },
        "id": "AkCFPEqgGnhr",
        "outputId": "333e84eb-421e-4bb0-a981-af2ea5a85a24"
      },
      "id": "AkCFPEqgGnhr",
      "execution_count": 3,
      "outputs": [
        {
          "output_type": "stream",
          "name": "stderr",
          "text": [
            "/usr/local/lib/python3.11/dist-packages/huggingface_hub/utils/_auth.py:94: UserWarning: \n",
            "The secret `HF_TOKEN` does not exist in your Colab secrets.\n",
            "To authenticate with the Hugging Face Hub, create a token in your settings tab (https://huggingface.co/settings/tokens), set it as secret in your Google Colab and restart your session.\n",
            "You will be able to reuse this secret in all of your notebooks.\n",
            "Please note that authentication is recommended but still optional to access public models or datasets.\n",
            "  warnings.warn(\n"
          ]
        }
      ]
    },
    {
      "cell_type": "code",
      "source": [
        "df = pl.from_dicts(ds['train'][:])"
      ],
      "metadata": {
        "id": "18JledhkGnkH"
      },
      "id": "18JledhkGnkH",
      "execution_count": 4,
      "outputs": []
    },
    {
      "cell_type": "code",
      "source": [
        "df.head()"
      ],
      "metadata": {
        "colab": {
          "base_uri": "https://localhost:8080/",
          "height": 255
        },
        "id": "F2rKSO0ZHOOp",
        "outputId": "e636516c-69cf-45c7-fd07-ac5a1cd6a1bf"
      },
      "id": "F2rKSO0ZHOOp",
      "execution_count": 5,
      "outputs": [
        {
          "output_type": "execute_result",
          "data": {
            "text/plain": [
              "shape: (5, 3)\n",
              "┌─────────────────────────────────┬───────────┬─────────┐\n",
              "│ text                            ┆ labels    ┆ id      │\n",
              "│ ---                             ┆ ---       ┆ ---     │\n",
              "│ str                             ┆ list[i64] ┆ str     │\n",
              "╞═════════════════════════════════╪═══════════╪═════════╡\n",
              "│ My favourite food is anything … ┆ [5]       ┆ eebbqej │\n",
              "│ Now if he does off himself, ev… ┆ [5]       ┆ ed00q6i │\n",
              "│ WHY THE FUCK IS BAYLESS ISOING  ┆ [7]       ┆ eezlygj │\n",
              "│ To make her feel threatened     ┆ [2]       ┆ ed7ypvh │\n",
              "│ Dirty Southern Wankers          ┆ [7]       ┆ ed0bdzj │\n",
              "└─────────────────────────────────┴───────────┴─────────┘"
            ],
            "text/html": [
              "<div><style>\n",
              ".dataframe > thead > tr,\n",
              ".dataframe > tbody > tr {\n",
              "  text-align: right;\n",
              "  white-space: pre-wrap;\n",
              "}\n",
              "</style>\n",
              "<small>shape: (5, 3)</small><table border=\"1\" class=\"dataframe\"><thead><tr><th>text</th><th>labels</th><th>id</th></tr><tr><td>str</td><td>list[i64]</td><td>str</td></tr></thead><tbody><tr><td>&quot;My favourite food is anything …</td><td>[5]</td><td>&quot;eebbqej&quot;</td></tr><tr><td>&quot;Now if he does off himself, ev…</td><td>[5]</td><td>&quot;ed00q6i&quot;</td></tr><tr><td>&quot;WHY THE FUCK IS BAYLESS ISOING&quot;</td><td>[7]</td><td>&quot;eezlygj&quot;</td></tr><tr><td>&quot;To make her feel threatened&quot;</td><td>[2]</td><td>&quot;ed7ypvh&quot;</td></tr><tr><td>&quot;Dirty Southern Wankers&quot;</td><td>[7]</td><td>&quot;ed0bdzj&quot;</td></tr></tbody></table></div>"
            ]
          },
          "metadata": {},
          "execution_count": 5
        }
      ]
    },
    {
      "cell_type": "code",
      "source": [
        "df.sample(10)"
      ],
      "metadata": {
        "colab": {
          "base_uri": "https://localhost:8080/",
          "height": 412
        },
        "id": "rloiDn74HX52",
        "outputId": "51f1a9c1-a753-47b7-e99c-4b2eb989ef06"
      },
      "id": "rloiDn74HX52",
      "execution_count": 6,
      "outputs": [
        {
          "output_type": "execute_result",
          "data": {
            "text/plain": [
              "shape: (10, 3)\n",
              "┌─────────────────────────────────┬───────────┬─────────┐\n",
              "│ text                            ┆ labels    ┆ id      │\n",
              "│ ---                             ┆ ---       ┆ ---     │\n",
              "│ str                             ┆ list[i64] ┆ str     │\n",
              "╞═════════════════════════════════╪═══════════╪═════════╡\n",
              "│ Damn perfect 👌                 ┆ [0]       ┆ eenl8o3 │\n",
              "│ My sister did Blue Apron and l… ┆ [0]       ┆ ed711at │\n",
              "│ And suddenly the UK join doesn… ┆ [1]       ┆ ef3wb5x │\n",
              "│ Sounds like they get a pass on… ┆ [5]       ┆ eexv7pk │\n",
              "│ I take care of my kids!         ┆ [1]       ┆ ee9x4rt │\n",
              "│ Yeah, the Wall is a non-starte… ┆ [5]       ┆ eeod5x7 │\n",
              "│ Not really the point I'm makin… ┆ [0]       ┆ eeut8hu │\n",
              "│ Thanks [NAME]                   ┆ [0]       ┆ eeylje0 │\n",
              "│ We want buns                    ┆ [5]       ┆ ee4l65k │\n",
              "│ That’s not a good thing to do.… ┆ [7]       ┆ eexx0t2 │\n",
              "└─────────────────────────────────┴───────────┴─────────┘"
            ],
            "text/html": [
              "<div><style>\n",
              ".dataframe > thead > tr,\n",
              ".dataframe > tbody > tr {\n",
              "  text-align: right;\n",
              "  white-space: pre-wrap;\n",
              "}\n",
              "</style>\n",
              "<small>shape: (10, 3)</small><table border=\"1\" class=\"dataframe\"><thead><tr><th>text</th><th>labels</th><th>id</th></tr><tr><td>str</td><td>list[i64]</td><td>str</td></tr></thead><tbody><tr><td>&quot;Damn perfect 👌&quot;</td><td>[0]</td><td>&quot;eenl8o3&quot;</td></tr><tr><td>&quot;My sister did Blue Apron and l…</td><td>[0]</td><td>&quot;ed711at&quot;</td></tr><tr><td>&quot;And suddenly the UK join doesn…</td><td>[1]</td><td>&quot;ef3wb5x&quot;</td></tr><tr><td>&quot;Sounds like they get a pass on…</td><td>[5]</td><td>&quot;eexv7pk&quot;</td></tr><tr><td>&quot;I take care of my kids!&quot;</td><td>[1]</td><td>&quot;ee9x4rt&quot;</td></tr><tr><td>&quot;Yeah, the Wall is a non-starte…</td><td>[5]</td><td>&quot;eeod5x7&quot;</td></tr><tr><td>&quot;Not really the point I&#x27;m makin…</td><td>[0]</td><td>&quot;eeut8hu&quot;</td></tr><tr><td>&quot;Thanks [NAME]&quot;</td><td>[0]</td><td>&quot;eeylje0&quot;</td></tr><tr><td>&quot;We want buns&quot;</td><td>[5]</td><td>&quot;ee4l65k&quot;</td></tr><tr><td>&quot;That’s not a good thing to do.…</td><td>[7]</td><td>&quot;eexx0t2&quot;</td></tr></tbody></table></div>"
            ]
          },
          "metadata": {},
          "execution_count": 6
        }
      ]
    },
    {
      "cell_type": "code",
      "source": [
        "import spacy\n",
        "import spacy_cleaner\n",
        "from spacy_cleaner.processing import removers, replacers, mutators"
      ],
      "metadata": {
        "id": "_XZm38TiH_jT"
      },
      "id": "_XZm38TiH_jT",
      "execution_count": 7,
      "outputs": []
    },
    {
      "cell_type": "code",
      "source": [
        "!python3 -m spacy download en_core_web_lg"
      ],
      "metadata": {
        "colab": {
          "base_uri": "https://localhost:8080/"
        },
        "id": "01OjD2OQINZp",
        "outputId": "efa7ede2-178f-4def-fe3a-ced9ac3a197f"
      },
      "id": "01OjD2OQINZp",
      "execution_count": 8,
      "outputs": [
        {
          "output_type": "stream",
          "name": "stdout",
          "text": [
            "Collecting en-core-web-lg==3.7.1\n",
            "  Downloading https://github.com/explosion/spacy-models/releases/download/en_core_web_lg-3.7.1/en_core_web_lg-3.7.1-py3-none-any.whl (587.7 MB)\n",
            "\u001b[2K     \u001b[90m━━━━━━━━━━━━━━━━━━━━━━━━━━━━━━━━━━━━━━━\u001b[0m \u001b[32m587.7/587.7 MB\u001b[0m \u001b[31m3.3 MB/s\u001b[0m eta \u001b[36m0:00:00\u001b[0m\n",
            "\u001b[?25hRequirement already satisfied: spacy<3.8.0,>=3.7.2 in /usr/local/lib/python3.11/dist-packages (from en-core-web-lg==3.7.1) (3.7.5)\n",
            "Requirement already satisfied: spacy-legacy<3.1.0,>=3.0.11 in /usr/local/lib/python3.11/dist-packages (from spacy<3.8.0,>=3.7.2->en-core-web-lg==3.7.1) (3.0.12)\n",
            "Requirement already satisfied: spacy-loggers<2.0.0,>=1.0.0 in /usr/local/lib/python3.11/dist-packages (from spacy<3.8.0,>=3.7.2->en-core-web-lg==3.7.1) (1.0.5)\n",
            "Requirement already satisfied: murmurhash<1.1.0,>=0.28.0 in /usr/local/lib/python3.11/dist-packages (from spacy<3.8.0,>=3.7.2->en-core-web-lg==3.7.1) (1.0.13)\n",
            "Requirement already satisfied: cymem<2.1.0,>=2.0.2 in /usr/local/lib/python3.11/dist-packages (from spacy<3.8.0,>=3.7.2->en-core-web-lg==3.7.1) (2.0.11)\n",
            "Requirement already satisfied: preshed<3.1.0,>=3.0.2 in /usr/local/lib/python3.11/dist-packages (from spacy<3.8.0,>=3.7.2->en-core-web-lg==3.7.1) (3.0.10)\n",
            "Requirement already satisfied: thinc<8.3.0,>=8.2.2 in /usr/local/lib/python3.11/dist-packages (from spacy<3.8.0,>=3.7.2->en-core-web-lg==3.7.1) (8.2.5)\n",
            "Requirement already satisfied: wasabi<1.2.0,>=0.9.1 in /usr/local/lib/python3.11/dist-packages (from spacy<3.8.0,>=3.7.2->en-core-web-lg==3.7.1) (1.1.3)\n",
            "Requirement already satisfied: srsly<3.0.0,>=2.4.3 in /usr/local/lib/python3.11/dist-packages (from spacy<3.8.0,>=3.7.2->en-core-web-lg==3.7.1) (2.5.1)\n",
            "Requirement already satisfied: catalogue<2.1.0,>=2.0.6 in /usr/local/lib/python3.11/dist-packages (from spacy<3.8.0,>=3.7.2->en-core-web-lg==3.7.1) (2.0.10)\n",
            "Requirement already satisfied: weasel<0.5.0,>=0.1.0 in /usr/local/lib/python3.11/dist-packages (from spacy<3.8.0,>=3.7.2->en-core-web-lg==3.7.1) (0.4.1)\n",
            "Requirement already satisfied: typer<1.0.0,>=0.3.0 in /usr/local/lib/python3.11/dist-packages (from spacy<3.8.0,>=3.7.2->en-core-web-lg==3.7.1) (0.16.0)\n",
            "Requirement already satisfied: tqdm<5.0.0,>=4.38.0 in /usr/local/lib/python3.11/dist-packages (from spacy<3.8.0,>=3.7.2->en-core-web-lg==3.7.1) (4.66.6)\n",
            "Requirement already satisfied: requests<3.0.0,>=2.13.0 in /usr/local/lib/python3.11/dist-packages (from spacy<3.8.0,>=3.7.2->en-core-web-lg==3.7.1) (2.32.3)\n",
            "Requirement already satisfied: pydantic!=1.8,!=1.8.1,<3.0.0,>=1.7.4 in /usr/local/lib/python3.11/dist-packages (from spacy<3.8.0,>=3.7.2->en-core-web-lg==3.7.1) (2.11.7)\n",
            "Requirement already satisfied: jinja2 in /usr/local/lib/python3.11/dist-packages (from spacy<3.8.0,>=3.7.2->en-core-web-lg==3.7.1) (3.1.6)\n",
            "Requirement already satisfied: setuptools in /usr/local/lib/python3.11/dist-packages (from spacy<3.8.0,>=3.7.2->en-core-web-lg==3.7.1) (75.2.0)\n",
            "Requirement already satisfied: packaging>=20.0 in /usr/local/lib/python3.11/dist-packages (from spacy<3.8.0,>=3.7.2->en-core-web-lg==3.7.1) (24.2)\n",
            "Requirement already satisfied: langcodes<4.0.0,>=3.2.0 in /usr/local/lib/python3.11/dist-packages (from spacy<3.8.0,>=3.7.2->en-core-web-lg==3.7.1) (3.5.0)\n",
            "Requirement already satisfied: numpy>=1.19.0 in /usr/local/lib/python3.11/dist-packages (from spacy<3.8.0,>=3.7.2->en-core-web-lg==3.7.1) (1.26.4)\n",
            "Requirement already satisfied: language-data>=1.2 in /usr/local/lib/python3.11/dist-packages (from langcodes<4.0.0,>=3.2.0->spacy<3.8.0,>=3.7.2->en-core-web-lg==3.7.1) (1.3.0)\n",
            "Requirement already satisfied: annotated-types>=0.6.0 in /usr/local/lib/python3.11/dist-packages (from pydantic!=1.8,!=1.8.1,<3.0.0,>=1.7.4->spacy<3.8.0,>=3.7.2->en-core-web-lg==3.7.1) (0.7.0)\n",
            "Requirement already satisfied: pydantic-core==2.33.2 in /usr/local/lib/python3.11/dist-packages (from pydantic!=1.8,!=1.8.1,<3.0.0,>=1.7.4->spacy<3.8.0,>=3.7.2->en-core-web-lg==3.7.1) (2.33.2)\n",
            "Requirement already satisfied: typing-extensions>=4.12.2 in /usr/local/lib/python3.11/dist-packages (from pydantic!=1.8,!=1.8.1,<3.0.0,>=1.7.4->spacy<3.8.0,>=3.7.2->en-core-web-lg==3.7.1) (4.14.0)\n",
            "Requirement already satisfied: typing-inspection>=0.4.0 in /usr/local/lib/python3.11/dist-packages (from pydantic!=1.8,!=1.8.1,<3.0.0,>=1.7.4->spacy<3.8.0,>=3.7.2->en-core-web-lg==3.7.1) (0.4.1)\n",
            "Requirement already satisfied: charset-normalizer<4,>=2 in /usr/local/lib/python3.11/dist-packages (from requests<3.0.0,>=2.13.0->spacy<3.8.0,>=3.7.2->en-core-web-lg==3.7.1) (3.4.2)\n",
            "Requirement already satisfied: idna<4,>=2.5 in /usr/local/lib/python3.11/dist-packages (from requests<3.0.0,>=2.13.0->spacy<3.8.0,>=3.7.2->en-core-web-lg==3.7.1) (3.10)\n",
            "Requirement already satisfied: urllib3<3,>=1.21.1 in /usr/local/lib/python3.11/dist-packages (from requests<3.0.0,>=2.13.0->spacy<3.8.0,>=3.7.2->en-core-web-lg==3.7.1) (2.4.0)\n",
            "Requirement already satisfied: certifi>=2017.4.17 in /usr/local/lib/python3.11/dist-packages (from requests<3.0.0,>=2.13.0->spacy<3.8.0,>=3.7.2->en-core-web-lg==3.7.1) (2025.6.15)\n",
            "Requirement already satisfied: blis<0.8.0,>=0.7.8 in /usr/local/lib/python3.11/dist-packages (from thinc<8.3.0,>=8.2.2->spacy<3.8.0,>=3.7.2->en-core-web-lg==3.7.1) (0.7.11)\n",
            "Requirement already satisfied: confection<1.0.0,>=0.0.1 in /usr/local/lib/python3.11/dist-packages (from thinc<8.3.0,>=8.2.2->spacy<3.8.0,>=3.7.2->en-core-web-lg==3.7.1) (0.1.5)\n",
            "Requirement already satisfied: click>=8.0.0 in /usr/local/lib/python3.11/dist-packages (from typer<1.0.0,>=0.3.0->spacy<3.8.0,>=3.7.2->en-core-web-lg==3.7.1) (8.2.1)\n",
            "Requirement already satisfied: shellingham>=1.3.0 in /usr/local/lib/python3.11/dist-packages (from typer<1.0.0,>=0.3.0->spacy<3.8.0,>=3.7.2->en-core-web-lg==3.7.1) (1.5.4)\n",
            "Requirement already satisfied: rich>=10.11.0 in /usr/local/lib/python3.11/dist-packages (from typer<1.0.0,>=0.3.0->spacy<3.8.0,>=3.7.2->en-core-web-lg==3.7.1) (13.9.4)\n",
            "Requirement already satisfied: cloudpathlib<1.0.0,>=0.7.0 in /usr/local/lib/python3.11/dist-packages (from weasel<0.5.0,>=0.1.0->spacy<3.8.0,>=3.7.2->en-core-web-lg==3.7.1) (0.21.1)\n",
            "Requirement already satisfied: smart-open<8.0.0,>=5.2.1 in /usr/local/lib/python3.11/dist-packages (from weasel<0.5.0,>=0.1.0->spacy<3.8.0,>=3.7.2->en-core-web-lg==3.7.1) (7.1.0)\n",
            "Requirement already satisfied: MarkupSafe>=2.0 in /usr/local/lib/python3.11/dist-packages (from jinja2->spacy<3.8.0,>=3.7.2->en-core-web-lg==3.7.1) (3.0.2)\n",
            "Requirement already satisfied: marisa-trie>=1.1.0 in /usr/local/lib/python3.11/dist-packages (from language-data>=1.2->langcodes<4.0.0,>=3.2.0->spacy<3.8.0,>=3.7.2->en-core-web-lg==3.7.1) (1.2.1)\n",
            "Requirement already satisfied: markdown-it-py>=2.2.0 in /usr/local/lib/python3.11/dist-packages (from rich>=10.11.0->typer<1.0.0,>=0.3.0->spacy<3.8.0,>=3.7.2->en-core-web-lg==3.7.1) (3.0.0)\n",
            "Requirement already satisfied: pygments<3.0.0,>=2.13.0 in /usr/local/lib/python3.11/dist-packages (from rich>=10.11.0->typer<1.0.0,>=0.3.0->spacy<3.8.0,>=3.7.2->en-core-web-lg==3.7.1) (2.19.2)\n",
            "Requirement already satisfied: wrapt in /usr/local/lib/python3.11/dist-packages (from smart-open<8.0.0,>=5.2.1->weasel<0.5.0,>=0.1.0->spacy<3.8.0,>=3.7.2->en-core-web-lg==3.7.1) (1.17.2)\n",
            "Requirement already satisfied: mdurl~=0.1 in /usr/local/lib/python3.11/dist-packages (from markdown-it-py>=2.2.0->rich>=10.11.0->typer<1.0.0,>=0.3.0->spacy<3.8.0,>=3.7.2->en-core-web-lg==3.7.1) (0.1.2)\n",
            "\u001b[38;5;2m✔ Download and installation successful\u001b[0m\n",
            "You can now load the package via spacy.load('en_core_web_lg')\n",
            "\u001b[38;5;3m⚠ Restart to reload dependencies\u001b[0m\n",
            "If you are in a Jupyter or Colab notebook, you may need to restart Python in\n",
            "order to load all the package's dependencies. You can do this by selecting the\n",
            "'Restart kernel' or 'Restart runtime' option.\n"
          ]
        }
      ]
    },
    {
      "cell_type": "code",
      "source": [
        "nlp = spacy.load(\"en_core_web_lg\")"
      ],
      "metadata": {
        "id": "pYsRIU-RH_mf"
      },
      "id": "pYsRIU-RH_mf",
      "execution_count": 9,
      "outputs": []
    },
    {
      "cell_type": "code",
      "source": [
        "df.with_columns(text = pl.col('text'))"
      ],
      "metadata": {
        "colab": {
          "base_uri": "https://localhost:8080/",
          "height": 443
        },
        "id": "Pvrv0qZDJ05L",
        "outputId": "0e0d18f3-e684-4323-eecc-9be58f45e14a"
      },
      "id": "Pvrv0qZDJ05L",
      "execution_count": 10,
      "outputs": [
        {
          "output_type": "execute_result",
          "data": {
            "text/plain": [
              "shape: (43_410, 3)\n",
              "┌─────────────────────────────────┬───────────┬─────────┐\n",
              "│ text                            ┆ labels    ┆ id      │\n",
              "│ ---                             ┆ ---       ┆ ---     │\n",
              "│ str                             ┆ list[i64] ┆ str     │\n",
              "╞═════════════════════════════════╪═══════════╪═════════╡\n",
              "│ My favourite food is anything … ┆ [5]       ┆ eebbqej │\n",
              "│ Now if he does off himself, ev… ┆ [5]       ┆ ed00q6i │\n",
              "│ WHY THE FUCK IS BAYLESS ISOING  ┆ [7]       ┆ eezlygj │\n",
              "│ To make her feel threatened     ┆ [2]       ┆ ed7ypvh │\n",
              "│ Dirty Southern Wankers          ┆ [7]       ┆ ed0bdzj │\n",
              "│ …                               ┆ …         ┆ …       │\n",
              "│ Added you mate well I’ve just … ┆ [0]       ┆ edsb738 │\n",
              "│ Always thought that was funny … ┆ [3]       ┆ ee7fdou │\n",
              "│ What are you talking about? An… ┆ [7]       ┆ efgbhks │\n",
              "│ More like a baptism, with sexy… ┆ [0]       ┆ ed1naf8 │\n",
              "│ Enjoy the ride!                 ┆ [0]       ┆ eecwmbq │\n",
              "└─────────────────────────────────┴───────────┴─────────┘"
            ],
            "text/html": [
              "<div><style>\n",
              ".dataframe > thead > tr,\n",
              ".dataframe > tbody > tr {\n",
              "  text-align: right;\n",
              "  white-space: pre-wrap;\n",
              "}\n",
              "</style>\n",
              "<small>shape: (43_410, 3)</small><table border=\"1\" class=\"dataframe\"><thead><tr><th>text</th><th>labels</th><th>id</th></tr><tr><td>str</td><td>list[i64]</td><td>str</td></tr></thead><tbody><tr><td>&quot;My favourite food is anything …</td><td>[5]</td><td>&quot;eebbqej&quot;</td></tr><tr><td>&quot;Now if he does off himself, ev…</td><td>[5]</td><td>&quot;ed00q6i&quot;</td></tr><tr><td>&quot;WHY THE FUCK IS BAYLESS ISOING&quot;</td><td>[7]</td><td>&quot;eezlygj&quot;</td></tr><tr><td>&quot;To make her feel threatened&quot;</td><td>[2]</td><td>&quot;ed7ypvh&quot;</td></tr><tr><td>&quot;Dirty Southern Wankers&quot;</td><td>[7]</td><td>&quot;ed0bdzj&quot;</td></tr><tr><td>&hellip;</td><td>&hellip;</td><td>&hellip;</td></tr><tr><td>&quot;Added you mate well I’ve just …</td><td>[0]</td><td>&quot;edsb738&quot;</td></tr><tr><td>&quot;Always thought that was funny …</td><td>[3]</td><td>&quot;ee7fdou&quot;</td></tr><tr><td>&quot;What are you talking about? An…</td><td>[7]</td><td>&quot;efgbhks&quot;</td></tr><tr><td>&quot;More like a baptism, with sexy…</td><td>[0]</td><td>&quot;ed1naf8&quot;</td></tr><tr><td>&quot;Enjoy the ride!&quot;</td><td>[0]</td><td>&quot;eecwmbq&quot;</td></tr></tbody></table></div>"
            ]
          },
          "metadata": {},
          "execution_count": 10
        }
      ]
    },
    {
      "cell_type": "code",
      "source": [
        "docs = (df.select('text').to_series().to_list())\n",
        "# docs = df.select('text').to_series()"
      ],
      "metadata": {
        "id": "Nb0O31NGKCIt"
      },
      "id": "Nb0O31NGKCIt",
      "execution_count": 76,
      "outputs": []
    },
    {
      "cell_type": "code",
      "source": [
        "from spacy_cleaner import processing, Cleaner\n",
        "\n",
        "pipeline = spacy_cleaner.Cleaner(\n",
        "    nlp,\n",
        "    processing.remove_number_token,\n",
        "    processing.replace_punctuation_token,\n",
        "    processing.mutate_lemma_token,\n",
        ")"
      ],
      "metadata": {
        "id": "YIcD9veuQSiA"
      },
      "id": "YIcD9veuQSiA",
      "execution_count": 90,
      "outputs": []
    },
    {
      "cell_type": "code",
      "source": [
        "for doc in docs[:10]:\n",
        "  print(pipeline.clean(doc))"
      ],
      "metadata": {
        "colab": {
          "base_uri": "https://localhost:8080/"
        },
        "id": "3hvkC1LdMAfG",
        "outputId": "dbb12403-2fcc-450a-aa14-7b5ada922dfa"
      },
      "id": "3hvkC1LdMAfG",
      "execution_count": 91,
      "outputs": [
        {
          "output_type": "stream",
          "name": "stderr",
          "text": [
            "Cleaning Progress: 100%|██████████| 59/59 [00:00<00:00, 1238.44it/s]\n"
          ]
        },
        {
          "output_type": "stream",
          "name": "stdout",
          "text": [
            "['m', 'y', '', 'f', 'a', 'v', 'o', 'u', 'r', 'I', 't', 'e', '', 'f', 'o', 'o', 'd', '', 'I', 's', '', 'a', 'n', 'y', 't', 'h', 'I', 'n', 'g', '', 'I', '', 'd', 'I', 'd', 'n', '_IS_PUNCT_', 't', '', 'h', 'a', 'v', 'e', '', 't', 'o', '', 'c', 'o', 'o', 'k', '', 'm', 'y', 's', 'e', 'l', 'f', '_IS_PUNCT_']\n"
          ]
        },
        {
          "output_type": "stream",
          "name": "stderr",
          "text": [
            "Cleaning Progress: 100%|██████████| 112/112 [00:00<00:00, 1450.99it/s]\n"
          ]
        },
        {
          "output_type": "stream",
          "name": "stdout",
          "text": [
            "['N', 'o', 'w', '', 'I', 'f', '', 'h', 'e', '', 'd', 'o', 'e', 's', '', 'o', 'f', 'f', '', 'h', 'I', 'm', 's', 'e', 'l', 'f', '_IS_PUNCT_', '', 'e', 'v', 'e', 'r', 'y', 'o', 'n', 'e', '', 'w', 'I', 'l', 'l', '', 't', 'h', 'I', 'n', 'k', '', 'h', 'e', 's', '', 'h', 'a', 'v', 'I', 'n', 'g', '', 'a', '', 'l', 'a', 'u', 'g', 'h', '', 's', 'c', 'r', 'e', 'w', 'I', 'n', 'g', '', 'w', 'I', 't', 'h', '', 'p', 'e', 'o', 'p', 'l', 'e', '', 'I', 'n', 's', 't', 'e', 'a', 'd', '', 'o', 'f', '', 'a', 'c', 't', 'u', 'a', 'l', 'l', 'y', '', 'd', 'e', 'a', 'd']\n"
          ]
        },
        {
          "output_type": "stream",
          "name": "stderr",
          "text": [
            "Cleaning Progress: 100%|██████████| 30/30 [00:00<00:00, 874.01it/s]\n"
          ]
        },
        {
          "output_type": "stream",
          "name": "stdout",
          "text": [
            "['w', 'h', 'y', '', 't', 'h', 'e', '', 'f', 'u', 'c', 'k', '', 'I', 's', '', 'b', 'a', 'y', 'l', 'e', 's', 's', '', 'I', 's', 'o', 'I', 'N', 'g']\n"
          ]
        },
        {
          "output_type": "stream",
          "name": "stderr",
          "text": [
            "Cleaning Progress: 100%|██████████| 27/27 [00:00<00:00, 1021.39it/s]\n"
          ]
        },
        {
          "output_type": "stream",
          "name": "stdout",
          "text": [
            "['t', 'o', '', 'm', 'a', 'k', 'e', '', 'h', 'e', 'r', '', 'f', 'e', 'e', 'l', '', 't', 'h', 'r', 'e', 'a', 't', 'e', 'n', 'e', 'd']\n"
          ]
        },
        {
          "output_type": "stream",
          "name": "stderr",
          "text": [
            "Cleaning Progress: 100%|██████████| 22/22 [00:00<00:00, 939.45it/s]\n"
          ]
        },
        {
          "output_type": "stream",
          "name": "stdout",
          "text": [
            "['d', 'I', 'r', 't', 'y', '', 's', 'o', 'u', 't', 'h', 'e', 'r', 'n', '', 'w', 'a', 'n', 'k', 'e', 'r', 's']\n"
          ]
        },
        {
          "output_type": "stream",
          "name": "stderr",
          "text": [
            "Cleaning Progress: 100%|██████████| 98/98 [00:00<00:00, 1415.35it/s]\n"
          ]
        },
        {
          "output_type": "stream",
          "name": "stdout",
          "text": [
            "['o', 'm', 'g', '', 'p', 'e', 'y', 't', 'o', 'N', '', 'I', 's', 'n', '_IS_PUNCT_', 't', '', 'g', 'o', 'o', 'd', '', 'e', 'N', 'o', 'u', 'g', 'h', '', 't', 'o', '', 'h', 'e', 'l', 'p', '', 'u', 's', '', 'I', 'N', '', 't', 'h', 'e', '', 'p', 'l', 'a', 'y', 'o', 'f', 'f', 's', '_IS_PUNCT_', '', 'd', 'u', 'm', 'b', 'a', 's', 's', '', 'b', 'r', 'o', 'n', 'c', 'o', 's', '', 'f', 'a', 'n', 's', '', 'c', 'I', 'r', 'c', 'a', '', 'd', 'e', 'c', 'e', 'm', 'b', 'e', 'r', '', '', '', '', '', '_IS_PUNCT_']\n"
          ]
        },
        {
          "output_type": "stream",
          "name": "stderr",
          "text": [
            "Cleaning Progress: 100%|██████████| 117/117 [00:00<00:00, 1301.36it/s]\n"
          ]
        },
        {
          "output_type": "stream",
          "name": "stdout",
          "text": [
            "['y', 'e', 's', '', 'I', '', 'h', 'e', 'a', 'r', 'd', '', 'a', 'b', 't', '', 't', 'h', 'e', '', 'f', '', 'b', 'o', 'm', 'b', 's', '_IS_PUNCT_', '', 't', 'h', 'a', 't', '', 'h', 'a', 's', '', 't', 'o', '', 'b', 'e', '', 'w', 'h', 'y', '_IS_PUNCT_', '', 't', 'h', 'a', 'n', 'k', 's', '', 'f', 'o', 'r', '', 'y', 'o', 'u', 'r', '', 'r', 'e', 'p', 'l', 'y', '_IS_PUNCT_', '_IS_PUNCT_', '', 'u', 'n', 't', 'I', 'l', '', 't', 'h', 'e', 'n', '', 'h', 'u', 'b', 'b', 'y', '', 'a', 'n', 'd', '', 'I', '', 'w', 'I', 'l', 'l', '', 'a', 'n', 'x', 'I', 'o', 'u', 's', 'l', 'y', '', 'w', 'a', 'I', 't', '', '😝']\n"
          ]
        },
        {
          "output_type": "stream",
          "name": "stderr",
          "text": [
            "Cleaning Progress: 100%|██████████| 82/82 [00:00<00:00, 2034.95it/s]\n"
          ]
        },
        {
          "output_type": "stream",
          "name": "stdout",
          "text": [
            "['w', 'e', '', 'n', 'e', 'e', 'd', '', 'm', 'o', 'r', 'e', '', 'b', 'o', 'a', 'r', 'd', 's', '', 'a', 'n', 'd', '', 't', 'o', '', 'c', 'r', 'e', 'a', 't', 'e', '', 'a', '', 'b', 'I', 't', '', 'm', 'o', 'r', 'e', '', 's', 'p', 'a', 'c', 'e', '', 'f', 'o', 'r', '', '_IS_PUNCT_', 'N', 'a', 'm', 'e', '_IS_PUNCT_', '_IS_PUNCT_', '', 't', 'h', 'e', 'n', '', 'w', 'e', '_IS_PUNCT_', 'l', 'l', '', 'b', 'e', '', 'g', 'o', 'o', 'd', '_IS_PUNCT_']\n"
          ]
        },
        {
          "output_type": "stream",
          "name": "stderr",
          "text": [
            "Cleaning Progress: 100%|██████████| 60/60 [00:00<00:00, 2079.48it/s]\n"
          ]
        },
        {
          "output_type": "stream",
          "name": "stdout",
          "text": [
            "['d', 'a', 'm', 'n', '', 'y', 'o', 'u', 't', 'u', 'b', 'e', '', 'a', 'n', 'd', '', 'o', 'u', 't', 'r', 'a', 'g', 'e', '', 'd', 'r', 'a', 'm', 'a', '', 'I', 's', '', 's', 'u', 'p', 'e', 'r', '', 'l', 'u', 'c', 'r', 'a', 't', 'I', 'v', 'e', '', 'f', 'o', 'r', '', 'r', 'e', 'd', 'd', 'I', 't']\n"
          ]
        },
        {
          "output_type": "stream",
          "name": "stderr",
          "text": [
            "Cleaning Progress: 100%|██████████| 54/54 [00:00<00:00, 1908.96it/s]"
          ]
        },
        {
          "output_type": "stream",
          "name": "stdout",
          "text": [
            "['I', 't', '', 'm', 'I', 'g', 'h', 't', '', 'b', 'e', '', 'l', 'I', 'n', 'k', 'e', 'd', '', 't', 'o', '', 't', 'h', 'e', '', 't', 'r', 'u', 's', 't', '', 'f', 'a', 'c', 't', 'o', 'r', '', 'o', 'f', '', 'y', 'o', 'u', 'r', '', 'f', 'r', 'I', 'e', 'n', 'd', '_IS_PUNCT_']\n"
          ]
        },
        {
          "output_type": "stream",
          "name": "stderr",
          "text": [
            "\n"
          ]
        }
      ]
    },
    {
      "cell_type": "code",
      "source": [
        "cleaned_texts"
      ],
      "metadata": {
        "id": "urwc-fxCWfju",
        "outputId": "5da911a7-7f20-4ee6-e0a7-dbc80ec6c3a2",
        "colab": {
          "base_uri": "https://localhost:8080/"
        }
      },
      "id": "urwc-fxCWfju",
      "execution_count": 81,
      "outputs": [
        {
          "output_type": "execute_result",
          "data": {
            "text/plain": [
              "['myfavourItefoodIsanythIngIdIdn_IS_PUNCT_thavetocookmyself_IS_PUNCT_',\n",
              " 'nowIfhedoesoffhImself_IS_PUNCT_everyonewIllthInkheshavIngalaughscrewIngwIthpeopleInsteadofactuallydead',\n",
              " 'whythefuckIsbaylessIsoIng',\n",
              " 'tomakeherfeelthreatened',\n",
              " 'dIrtysouthernwankers',\n",
              " 'omgpeytonIsn_IS_PUNCT_tgoodenoughtohelpusIntheplayoffs_IS_PUNCT_dumbassbroncosfanscIrcadecember_IS_PUNCT_',\n",
              " 'yesIheardabtthefbombs_IS_PUNCT_thathastobewhy_IS_PUNCT_thanksforyourreply_IS_PUNCT__IS_PUNCT_untIlthenhubbyandIwIllanxIouslywaIt😝',\n",
              " 'weneedmoreboardsandtocreateabItmorespacefor_IS_PUNCT_name_IS_PUNCT__IS_PUNCT_thenwe_IS_PUNCT_llbegood_IS_PUNCT_',\n",
              " 'damnyoutubeandoutragedramaIssuperlucratIveforreddIt',\n",
              " 'ItmIghtbelInkedtothetrustfactorofyourfrIend_IS_PUNCT_']"
            ]
          },
          "metadata": {},
          "execution_count": 81
        }
      ]
    },
    {
      "cell_type": "code",
      "source": [
        "docs[:10]"
      ],
      "metadata": {
        "id": "eFx1tq3yUyM6",
        "outputId": "c03bb512-38c4-4e78-bf6c-4bf5c76e49cb",
        "colab": {
          "base_uri": "https://localhost:8080/",
          "height": 412
        }
      },
      "id": "eFx1tq3yUyM6",
      "execution_count": 59,
      "outputs": [
        {
          "output_type": "execute_result",
          "data": {
            "text/plain": [
              "shape: (10,)\n",
              "Series: 'text' [str]\n",
              "[\n",
              "\t\"My favourite food is anything …\n",
              "\t\"Now if he does off himself, ev…\n",
              "\t\"WHY THE FUCK IS BAYLESS ISOING\"\n",
              "\t\"To make her feel threatened\"\n",
              "\t\"Dirty Southern Wankers\"\n",
              "\t\"OmG pEyToN iSn'T gOoD eNoUgH t…\n",
              "\t\"Yes I heard abt the f bombs! T…\n",
              "\t\"We need more boards and to cre…\n",
              "\t\"Damn youtube and outrage drama…\n",
              "\t\"It might be linked to the trus…\n",
              "]"
            ],
            "text/html": [
              "<div><style>\n",
              ".dataframe > thead > tr,\n",
              ".dataframe > tbody > tr {\n",
              "  text-align: right;\n",
              "  white-space: pre-wrap;\n",
              "}\n",
              "</style>\n",
              "<small>shape: (10,)</small><table border=\"1\" class=\"dataframe\"><thead><tr><th>text</th></tr><tr><td>str</td></tr></thead><tbody><tr><td>&quot;My favourite food is anything …</td></tr><tr><td>&quot;Now if he does off himself, ev…</td></tr><tr><td>&quot;WHY THE FUCK IS BAYLESS ISOING&quot;</td></tr><tr><td>&quot;To make her feel threatened&quot;</td></tr><tr><td>&quot;Dirty Southern Wankers&quot;</td></tr><tr><td>&quot;OmG pEyToN iSn&#x27;T gOoD eNoUgH t…</td></tr><tr><td>&quot;Yes I heard abt the f bombs! T…</td></tr><tr><td>&quot;We need more boards and to cre…</td></tr><tr><td>&quot;Damn youtube and outrage drama…</td></tr><tr><td>&quot;It might be linked to the trus…</td></tr></tbody></table></div>"
            ]
          },
          "metadata": {},
          "execution_count": 59
        }
      ]
    },
    {
      "cell_type": "code",
      "source": [
        "texts = [\"Hello, my name is Cellan! I love to swim!\"]\n",
        "\n",
        "pipeline.clean(texts)"
      ],
      "metadata": {
        "id": "3FfG0LzfVEQA",
        "outputId": "c90066b1-7182-4330-c12d-986c09cd72df",
        "colab": {
          "base_uri": "https://localhost:8080/"
        }
      },
      "id": "3FfG0LzfVEQA",
      "execution_count": 43,
      "outputs": [
        {
          "output_type": "stream",
          "name": "stderr",
          "text": [
            "Cleaning Progress: 100%|██████████| 1/1 [00:00<00:00, 69.89it/s]\n"
          ]
        },
        {
          "output_type": "execute_result",
          "data": {
            "text/plain": [
              "['hello _IS_PUNCT_ my name be Cellan _IS_PUNCT_ I love to swim _IS_PUNCT_']"
            ]
          },
          "metadata": {},
          "execution_count": 43
        }
      ]
    },
    {
      "cell_type": "code",
      "execution_count": 6,
      "id": "1c582765-b90c-4b4f-85fc-2ced406b7e11",
      "metadata": {
        "colab": {
          "base_uri": "https://localhost:8080/"
        },
        "id": "1c582765-b90c-4b4f-85fc-2ced406b7e11",
        "outputId": "03aa111b-78dc-4944-ff6d-bacbb42bca5d"
      },
      "outputs": [
        {
          "output_type": "stream",
          "name": "stdout",
          "text": [
            "tf.Tensor(\n",
            "[[[-1.2254355  -0.56004155 -0.17601362 ... -0.6013401   0.30953038\n",
            "   -0.19663633]\n",
            "  [-0.3378982  -0.44750282 -0.25743815 ...  0.1139721   0.5215721\n",
            "    0.44130957]\n",
            "  [-0.7699146  -0.59208894  0.30938572 ... -0.19840713 -0.4080305\n",
            "   -0.1008392 ]\n",
            "  [ 0.1407964  -0.1578854  -0.00950453 ...  0.4300598  -0.52887106\n",
            "    0.06327865]\n",
            "  [ 0.5430831  -0.34397006  0.24777149 ...  0.6520644  -0.75163364\n",
            "    0.62725514]\n",
            "  [-0.02840841 -0.04353216  0.04130162 ...  0.02583169 -0.01429836\n",
            "   -0.01650421]]\n",
            "\n",
            " [[-1.2254355  -0.56004155 -0.17601362 ... -0.23754163  0.01082993\n",
            "    0.2731854 ]\n",
            "  [-0.46348965 -0.6875993  -0.43287832 ...  0.39116472  0.40313643\n",
            "    0.22064766]\n",
            "  [ 0.27282217  0.12031829 -0.42233795 ... -0.13344263 -0.03808242\n",
            "    0.6961196 ]\n",
            "  [ 0.20337161 -0.54509497 -0.18651727 ...  0.18980044 -0.44664234\n",
            "    0.34725326]\n",
            "  [ 0.04421706 -0.10066792  0.25108594 ...  0.04998696 -0.272179\n",
            "    0.6952067 ]\n",
            "  [-0.0821335   0.01050324 -0.0145415  ...  0.48705408 -0.54457945\n",
            "    0.52623975]]], shape=(2, 6, 1024), dtype=float32)\n"
          ]
        }
      ],
      "source": [
        "embeddings = elmo.signatures[\"default\"](\n",
        "    tf.constant([\n",
        "        \"I love to watch TV\",\n",
        "        \"I am wearing a wrist watch\"\n",
        "    ])\n",
        ")[\"elmo\"]\n",
        "\n",
        "# In TensorFlow 2.x, eager execution is enabled by default,\n",
        "# so you don't need to initialize variables or create a session.\n",
        "# The embeddings are computed directly.\n",
        "\n",
        "print(embeddings)"
      ]
    },
    {
      "cell_type": "code",
      "source": [
        "type(embeddings)"
      ],
      "metadata": {
        "colab": {
          "base_uri": "https://localhost:8080/"
        },
        "id": "q3_n-z7IGJ_8",
        "outputId": "faa9abec-1a18-4763-abe4-6eac39fbad36"
      },
      "id": "q3_n-z7IGJ_8",
      "execution_count": 8,
      "outputs": [
        {
          "output_type": "execute_result",
          "data": {
            "text/plain": [
              "tensorflow.python.framework.ops.EagerTensor"
            ]
          },
          "metadata": {},
          "execution_count": 8
        }
      ]
    },
    {
      "cell_type": "code",
      "source": [],
      "metadata": {
        "id": "RhwP_mnQGCRn"
      },
      "id": "RhwP_mnQGCRn",
      "execution_count": null,
      "outputs": []
    }
  ],
  "metadata": {
    "kernelspec": {
      "display_name": ".conda-default:Python",
      "language": "python",
      "name": "conda-env-.conda-default-py"
    },
    "language_info": {
      "codemirror_mode": {
        "name": "ipython",
        "version": 3
      },
      "file_extension": ".py",
      "mimetype": "text/x-python",
      "name": "python",
      "nbconvert_exporter": "python",
      "pygments_lexer": "ipython3",
      "version": "3.9.19"
    },
    "colab": {
      "provenance": [],
      "include_colab_link": true
    }
  },
  "nbformat": 4,
  "nbformat_minor": 5
}