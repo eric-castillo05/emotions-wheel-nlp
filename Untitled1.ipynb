{
 "cells": [
  {
   "cell_type": "code",
   "execution_count": 1,
   "id": "d4066acc-17a1-45c7-a75b-aa6096537555",
   "metadata": {
    "tags": []
   },
   "outputs": [],
   "source": [
    "import polars as pl\n",
    "import numpy as np\n",
    "import seaborn as sns\n",
    "import matplotlib.pyplot as plt"
   ]
  },
  {
   "cell_type": "code",
   "execution_count": 3,
   "id": "570adb9f-f214-4b09-8dc2-e1edb434e693",
   "metadata": {
    "tags": []
   },
   "outputs": [],
   "source": [
    "splits = {'train': 'data/train-00000-of-00001.parquet', 'validation': 'data/validation-00000-of-00001.parquet', 'test': 'data/test-00000-of-00001.parquet'}\n",
    "df_train = pl.read_parquet('hf://datasets/Jsevisal/go_emotions_wheel/' + splits['train'])"
   ]
  },
  {
   "cell_type": "code",
   "execution_count": 4,
   "id": "72d4c8e5-24a1-4480-a972-e4d0758d8d1c",
   "metadata": {
    "tags": []
   },
   "outputs": [],
   "source": [
    "frec = {}"
   ]
  },
  {
   "cell_type": "code",
   "execution_count": 11,
   "id": "8f775193-70de-41ef-80b2-2c64f94c4958",
   "metadata": {
    "tags": []
   },
   "outputs": [],
   "source": [
    "def add_frec(i) -> None:\n",
    "    if i in frec:\n",
    "        frec[i] += 1\n",
    "    elif i not in frec:\n",
    "        frec[i] = 1\n",
    "            \n",
    "\n",
    "for i in df_train.select('labels').to_series().to_list():\n",
    "    for temp in i:\n",
    "        add_frec(temp)"
   ]
  },
  {
   "cell_type": "code",
   "execution_count": 12,
   "id": "4b0ec869-84a4-403d-ac41-9167366c4cb4",
   "metadata": {
    "tags": []
   },
   "outputs": [
    {
     "data": {
      "text/plain": [
       "{5: 14219,\n",
       " 7: 6059,\n",
       " 2: 760,\n",
       " 3: 5729,\n",
       " 0: 15356,\n",
       " 6: 641,\n",
       " 1: 4026,\n",
       " 4: 3520,\n",
       " 8: 793}"
      ]
     },
     "execution_count": 12,
     "metadata": {},
     "output_type": "execute_result"
    }
   ],
   "source": [
    "frec"
   ]
  },
  {
   "cell_type": "code",
   "execution_count": 37,
   "id": "157569aa-6ff6-4b61-8695-364a8343c8c5",
   "metadata": {
    "tags": []
   },
   "outputs": [],
   "source": [
    "aux = { \n",
    "    0: 'joy',\n",
    "    1: 'trust',\n",
    "    2: 'fear',\n",
    "    3: 'surprise',\n",
    "    4: 'sadness',\n",
    "    5: 'neutral',\n",
    "    6: 'anticipation',\n",
    "    7: 'anger',\n",
    "    8: 'disgust'\n",
    " }"
   ]
  },
  {
   "cell_type": "code",
   "execution_count": 69,
   "id": "29ecaf8f-d529-4509-a225-b09e5b3eb292",
   "metadata": {
    "tags": []
   },
   "outputs": [
    {
     "data": {
      "image/png": "[encoded data removed]",
      "text/plain": [
       "<Figure size 1000x500 with 1 Axes>"
      ]
     },
     "metadata": {},
     "output_type": "display_data"
    }
   ],
   "source": [
    "plt.figure(figsize = (10, 5))\n",
    "ax = sns.barplot(data = frec, x = aux.values(),y = frec.values(), palette = 'plasma', hue = aux.values())\n",
    "for container in ax.containers:\n",
    "    ax.bar_label(container)"
   ]
  },
  {
   "cell_type": "code",
   "execution_count": 64,
   "id": "d1b9dd1e-c52a-4794-b685-ec54f8a84c4e",
   "metadata": {
    "tags": []
   },
   "outputs": [
    {
     "name": "stderr",
     "output_type": "stream",
     "text": [
      "/tmp/ipykernel_231/2035967438.py:6: DeprecationWarning: load_dataset is deprecated and will be removed in a future version.\n",
      "  lf = kagglehub.load_dataset(\n"
     ]
    },
    {
     "name": "stdout",
     "output_type": "stream",
     "text": [
      "First 5 records: shape: (6, 10)\n",
      "┌─────────┬─────────────┬───────────┬────────────┬───┬────────────┬────────┬──────────┬────────────┐\n",
      "│ feeling ┆ description ┆ intensity ┆ synonyms   ┆ … ┆ physical_s ┆ color  ┆ category ┆ secondary  │\n",
      "│ ---     ┆ ---         ┆ ---       ┆ ---        ┆   ┆ ensations  ┆ ---    ┆ ---      ┆ ---        │\n",
      "│ str     ┆ str         ┆ i64       ┆ list[str]  ┆   ┆ ---        ┆ str    ┆ str      ┆ list[struc │\n",
      "│         ┆             ┆           ┆            ┆   ┆ list[str]  ┆        ┆          ┆ t[9]]      │\n",
      "╞═════════╪═════════════╪═══════════╪════════════╪═══╪════════════╪════════╪══════════╪════════════╡\n",
      "│ Happy   ┆ A state of  ┆ 4         ┆ [\"Joyful\", ┆ … ┆ [\"Warmth   ┆ Yellow ┆ Positive ┆ [{\"Playful │\n",
      "│         ┆ joy, satisf ┆           ┆ \"Elated\",  ┆   ┆ in the     ┆        ┆          ┆ \",\"Feeling │\n",
      "│         ┆ action, …   ┆           ┆ \"Cheerful… ┆   ┆ chest\",    ┆        ┆          ┆ lighthear… │\n",
      "│         ┆             ┆           ┆            ┆   ┆ \"Smili…    ┆        ┆          ┆            │\n",
      "│ Sad     ┆ A state of  ┆ 4         ┆ [\"Sorrowfu ┆ … ┆ [\"Tears\",  ┆ Blue   ┆ Negative ┆ [{\"Lonely\" │\n",
      "│         ┆ unhappiness ┆           ┆ l\", \"Mourn ┆   ┆ \"Heavy     ┆        ┆          ┆ ,\"Feeling  │\n",
      "│         ┆ or sorr…    ┆           ┆ ful\",      ┆   ┆ chest\",    ┆        ┆          ┆ isolated   │\n",
      "│         ┆             ┆           ┆ \"Unh…      ┆   ┆ \"Slum…     ┆        ┆          ┆ o…         │\n",
      "│ Angry   ┆ A strong    ┆ 5         ┆ [\"Mad\",    ┆ … ┆ [\"Racing   ┆ Red    ┆ Negative ┆ [{\"Let dow │\n",
      "│         ┆ feeling of  ┆           ┆ \"Furious\", ┆   ┆ heart\",    ┆        ┆          ┆ n\",\"Feelin │\n",
      "│         ┆ displeasur… ┆           ┆ \"Irate\"]   ┆   ┆ \"Tense     ┆        ┆          ┆ g          │\n",
      "│         ┆             ┆           ┆            ┆   ┆ muscle…    ┆        ┆          ┆ betrayed…  │\n",
      "│ Fearful ┆ A state of  ┆ 4         ┆ [\"Afraid\", ┆ … ┆ [\"Racing   ┆ Light  ┆ Negative ┆ [{\"Scared\" │\n",
      "│         ┆ anxiety or  ┆           ┆ \"Scared\",  ┆   ┆ heart\",    ┆ Yellow ┆          ┆ ,\"Feeling  │\n",
      "│         ┆ dread, o…   ┆           ┆ \"Anxious\"… ┆   ┆ \"Shallow   ┆        ┆          ┆ afraid or  │\n",
      "│         ┆             ┆           ┆            ┆   ┆ brea…      ┆        ┆          ┆ …          │\n",
      "│ Bad     ┆ A general   ┆ 3         ┆ [\"Unpleasa ┆ … ┆ [\"Tense    ┆ Green  ┆ Negative ┆ [{\"Bored\", │\n",
      "│         ┆ state of    ┆           ┆ nt\", \"Nega ┆   ┆ shoulders\" ┆        ┆          ┆ \"Feeling   │\n",
      "│         ┆ unease or   ┆           ┆ tive\",     ┆   ┆ , \"Sighing ┆        ┆          ┆ uninterest │\n",
      "│         ┆ d…          ┆           ┆ \"Un…       ┆   ┆ \",…        ┆        ┆          ┆ e…         │\n",
      "│ Disgust ┆ A strong    ┆ 4         ┆ [\"Revulsio ┆ … ┆ [\"Wrinkled ┆ Gray   ┆ Negative ┆ [{\"Disappr │\n",
      "│         ┆ feeling of  ┆           ┆ n\", \"Avers ┆   ┆ nose\",     ┆        ┆          ┆ oving\",\"Fe │\n",
      "│         ┆ aversion o… ┆           ┆ ion\",      ┆   ┆ \"Gagging\", ┆        ┆          ┆ eling      │\n",
      "│         ┆             ┆           ┆ \"Rep…      ┆   ┆ \"…         ┆        ┆          ┆ crit…      │\n",
      "└─────────┴─────────────┴───────────┴────────────┴───┴────────────┴────────┴──────────┴────────────┘\n"
     ]
    }
   ],
   "source": [
    "import kagglehub\n",
    "from kagglehub import KaggleDatasetAdapter\n",
    "\n",
    "file_path = \"emotions.json\"\n",
    "\n",
    "lf = kagglehub.load_dataset(\n",
    "  KaggleDatasetAdapter.POLARS,\n",
    "  \"iamsrikanthnani/human-emotions-wheel-dataset\",\n",
    "  file_path,\n",
    ")\n",
    "print(\"First 5 records:\", lf.collect().tail(10))"
   ]
  },
  {
   "cell_type": "code",
   "execution_count": 68,
   "id": "5412d4f5-fdc3-4d88-87eb-899a6b5f89fc",
   "metadata": {
    "tags": []
   },
   "outputs": [
    {
     "data": {
      "text/html": [
       "<i>naive plan: (run <b>LazyFrame.explain(optimized=True)</b> to see the optimized plan)</i>\n",
       "    <p></p>\n",
       "    <div>SLICE[offset: 0, len: 5]<p></p>  DF [\"feeling\", \"description\", \"intensity\", \"synonyms\", ...]; PROJECT */10 COLUMNS</div>"
      ],
      "text/plain": [
       "<LazyFrame at 0x7F6A7518B820>"
      ]
     },
     "execution_count": 68,
     "metadata": {},
     "output_type": "execute_result"
    }
   ],
   "source": [
    "lf.head()"
   ]
  },
  {
   "cell_type": "code",
   "execution_count": 56,
   "id": "83a7dcb8-54b6-46a0-8935-19655df2afbb",
   "metadata": {
    "tags": []
   },
   "outputs": [
    {
     "data": {
      "text/html": [
       "<i>naive plan: (run <b>LazyFrame.explain(optimized=True)</b> to see the optimized plan)</i>\n",
       "    <p></p>\n",
       "    <div>SELECT [col(\"feeling\")]<p></p>  DF [\"feeling\", \"description\", \"intensity\", \"synonyms\", ...]; PROJECT */10 COLUMNS</div>"
      ],
      "text/plain": [
       "<LazyFrame at 0x7F6A7518B220>"
      ]
     },
     "execution_count": 56,
     "metadata": {},
     "output_type": "execute_result"
    }
   ],
   "source": []
  },
  {
   "cell_type": "code",
   "execution_count": null,
   "id": "fff5dc63-cfe0-4056-b480-11f7c701baa9",
   "metadata": {},
   "outputs": [],
   "source": []
  }
 ],
 "metadata": {
  "kernelspec": {
   "display_name": ".conda-default:Python",
   "language": "python",
   "name": "conda-env-.conda-default-py"
  },
  "language_info": {
   "codemirror_mode": {
    "name": "ipython",
    "version": 3
   },
   "file_extension": ".py",
   "mimetype": "text/x-python",
   "name": "python",
   "nbconvert_exporter": "python",
   "pygments_lexer": "ipython3",
   "version": "3.9.19"
  }
 },
 "nbformat": 4,
 "nbformat_minor": 5
}
