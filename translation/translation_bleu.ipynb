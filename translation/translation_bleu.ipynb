{
 "cells": [
  {
   "cell_type": "code",
   "execution_count": 3,
   "id": "5af91369-323b-4158-a60f-dc7ba8ee2ae4",
   "metadata": {},
   "outputs": [],
   "source": [
    "import polars as pl"
   ]
  },
  {
   "cell_type": "code",
   "execution_count": 6,
   "id": "b4fb8bfe-9c9d-4d8e-afb1-c4073e2f63e5",
   "metadata": {},
   "outputs": [],
   "source": [
    "df = pl.read_csv('../Datasets/train_translated.csv')"
   ]
  },
  {
   "cell_type": "code",
   "execution_count": 7,
   "id": "7eaa09f9-3e0c-43b4-960d-ded805990853",
   "metadata": {},
   "outputs": [
    {
     "data": {
      "text/html": [
       "<div><style>\n",
       ".dataframe > thead > tr,\n",
       ".dataframe > tbody > tr {\n",
       "  text-align: right;\n",
       "  white-space: pre-wrap;\n",
       "}\n",
       "</style>\n",
       "<small>shape: (16_000, 4)</small><table border=\"1\" class=\"dataframe\"><thead><tr><th>id</th><th>texto</th><th>emocion</th><th>texto_en2esp_marian</th></tr><tr><td>i64</td><td>str</td><td>str</td><td>str</td></tr></thead><tbody><tr><td>1</td><td>&quot;i didnt feel humiliated&quot;</td><td>&quot;sadness&quot;</td><td>&quot;No me sentí humillada.&quot;</td></tr><tr><td>2</td><td>&quot;i can go from feeling so hopel…</td><td>&quot;sadness&quot;</td><td>&quot;Puedo pasar de sentirme tan de…</td></tr><tr><td>3</td><td>&quot;im grabbing a minute to post i…</td><td>&quot;anger&quot;</td><td>&quot;Estoy agarrando un minuto para…</td></tr><tr><td>4</td><td>&quot;i am ever feeling nostalgic ab…</td><td>&quot;love&quot;</td><td>&quot;Me siento nostálgico sobre la …</td></tr><tr><td>5</td><td>&quot;i am feeling grouchy&quot;</td><td>&quot;anger&quot;</td><td>&quot;Me siento gruñón.&quot;</td></tr><tr><td>&hellip;</td><td>&hellip;</td><td>&hellip;</td><td>&hellip;</td></tr><tr><td>15996</td><td>&quot;i just had a very brief time i…</td><td>&quot;sadness&quot;</td><td>&quot;Acabo de tener un tiempo muy b…</td></tr><tr><td>15997</td><td>&quot;i am now turning and i feel pa…</td><td>&quot;sadness&quot;</td><td>&quot;Ahora estoy girando y me sient…</td></tr><tr><td>15998</td><td>&quot;i feel strong and good overall&quot;</td><td>&quot;joy&quot;</td><td>&quot;Me siento fuerte y bien en gen…</td></tr><tr><td>15999</td><td>&quot;i feel like this was such a ru…</td><td>&quot;anger&quot;</td><td>&quot;Me siento como si esto fuera u…</td></tr><tr><td>16000</td><td>&quot;i know a lot but i feel so stu…</td><td>&quot;sadness&quot;</td><td>&quot;Sé mucho, pero me siento tan e…</td></tr></tbody></table></div>"
      ],
      "text/plain": [
       "shape: (16_000, 4)\n",
       "┌───────┬─────────────────────────────────┬─────────┬─────────────────────────────────┐\n",
       "│ id    ┆ texto                           ┆ emocion ┆ texto_en2esp_marian             │\n",
       "│ ---   ┆ ---                             ┆ ---     ┆ ---                             │\n",
       "│ i64   ┆ str                             ┆ str     ┆ str                             │\n",
       "╞═══════╪═════════════════════════════════╪═════════╪═════════════════════════════════╡\n",
       "│ 1     ┆ i didnt feel humiliated         ┆ sadness ┆ No me sentí humillada.          │\n",
       "│ 2     ┆ i can go from feeling so hopel… ┆ sadness ┆ Puedo pasar de sentirme tan de… │\n",
       "│ 3     ┆ im grabbing a minute to post i… ┆ anger   ┆ Estoy agarrando un minuto para… │\n",
       "│ 4     ┆ i am ever feeling nostalgic ab… ┆ love    ┆ Me siento nostálgico sobre la … │\n",
       "│ 5     ┆ i am feeling grouchy            ┆ anger   ┆ Me siento gruñón.               │\n",
       "│ …     ┆ …                               ┆ …       ┆ …                               │\n",
       "│ 15996 ┆ i just had a very brief time i… ┆ sadness ┆ Acabo de tener un tiempo muy b… │\n",
       "│ 15997 ┆ i am now turning and i feel pa… ┆ sadness ┆ Ahora estoy girando y me sient… │\n",
       "│ 15998 ┆ i feel strong and good overall  ┆ joy     ┆ Me siento fuerte y bien en gen… │\n",
       "│ 15999 ┆ i feel like this was such a ru… ┆ anger   ┆ Me siento como si esto fuera u… │\n",
       "│ 16000 ┆ i know a lot but i feel so stu… ┆ sadness ┆ Sé mucho, pero me siento tan e… │\n",
       "└───────┴─────────────────────────────────┴─────────┴─────────────────────────────────┘"
      ]
     },
     "execution_count": 7,
     "metadata": {},
     "output_type": "execute_result"
    }
   ],
   "source": [
    "df"
   ]
  },
  {
   "cell_type": "code",
   "execution_count": 29,
   "id": "c7b31011-7d80-4cd6-98f6-12aca2a3520f",
   "metadata": {},
   "outputs": [],
   "source": [
    "x1 = df.select('texto')[0]\n",
    "x2 = df.select('texto')[0]"
   ]
  },
  {
   "cell_type": "code",
   "execution_count": 26,
   "id": "770d6229-aec4-42e1-9412-d02c07be1933",
   "metadata": {},
   "outputs": [],
   "source": [
    "from nltk.translate.bleu_score import sentence_bleu"
   ]
  },
  {
   "cell_type": "code",
   "execution_count": 58,
   "id": "c57eaff3-d6ec-4fd5-a7b3-1de4bfff5763",
   "metadata": {},
   "outputs": [],
   "source": [
    "reference = [\"i didnt feel humiliated\".split()]"
   ]
  },
  {
   "cell_type": "code",
   "execution_count": 59,
   "id": "5ffa8e5f-5340-48c2-aad3-050db41a4dde",
   "metadata": {},
   "outputs": [],
   "source": [
    "candidate = \"No me sentí humillada.\".split()"
   ]
  },
  {
   "cell_type": "code",
   "execution_count": 67,
   "id": "28fdaf28-da1b-482b-b65b-3cb1e72cbaed",
   "metadata": {},
   "outputs": [
    {
     "name": "stdout",
     "output_type": "stream",
     "text": [
      "BLEU score -> 0\n"
     ]
    }
   ],
   "source": [
    "print('BLEU score -> {}'.format(sentence_bleu(reference, candidate), weights=(1, 1, 1, 1)))"
   ]
  },
  {
   "cell_type": "code",
   "execution_count": 68,
   "id": "e8876bf6-0a2e-4113-bde5-faa27ef28a78",
   "metadata": {},
   "outputs": [
    {
     "name": "stdout",
     "output_type": "stream",
     "text": [
      "BLEU score -> 0\n"
     ]
    }
   ],
   "source": [
    "from nltk.translate.bleu_score import sentence_bleu\n",
    "\n",
    "reference = [\"i didnt feel humiliated\".split()]\n",
    "candidate = \"No me sentí humillada.\".split()\n",
    "print('BLEU score -> {}'.format(sentence_bleu(reference, candidate, weights=(0.25, 0.25, 0.25, 0.25))))"
   ]
  },
  {
   "cell_type": "code",
   "execution_count": 69,
   "id": "730508ec-4660-4e2b-8f15-e46927171f6a",
   "metadata": {},
   "outputs": [
    {
     "ename": "SyntaxError",
     "evalue": "invalid syntax (582922796.py, line 1)",
     "output_type": "error",
     "traceback": [
      "  \u001b[36mCell\u001b[39m\u001b[36m \u001b[39m\u001b[32mIn[69]\u001b[39m\u001b[32m, line 1\u001b[39m\n\u001b[31m    \u001b[39m\u001b[31mreferences = [\"A fast brown fox leaps over a lazy dog\", \"The quick brown fox jumps over the lazy dog\"] candidate = \"The quick brown fox jumps over the lazy dog\" score = meteor_score(references, candidate) print(f \"METEOR Score: {score:.4f}\")\u001b[39m\n                                                                                                           ^\n\u001b[31mSyntaxError\u001b[39m\u001b[31m:\u001b[39m invalid syntax\n"
     ]
    }
   ],
   "source": [
    "references = [\"A fast brown fox leaps over a lazy dog\", \"The quick brown fox jumps over the lazy dog\"] candidate = \"The quick brown fox jumps over the lazy dog\" score = meteor_score(references, candidate) print(f \"METEOR Score: {score:.4f}\")"
   ]
  },
  {
   "cell_type": "code",
   "execution_count": null,
   "id": "22e4f333-825d-4342-bbc9-d61ed899d51c",
   "metadata": {},
   "outputs": [],
   "source": []
  }
 ],
 "metadata": {
  "kernelspec": {
   "display_name": "emotionsWheel",
   "language": "python",
   "name": "emotionswheel"
  },
  "language_info": {
   "codemirror_mode": {
    "name": "ipython",
    "version": 3
   },
   "file_extension": ".py",
   "mimetype": "text/x-python",
   "name": "python",
   "nbconvert_exporter": "python",
   "pygments_lexer": "ipython3",
   "version": "3.12.7"
  }
 },
 "nbformat": 4,
 "nbformat_minor": 5
}
