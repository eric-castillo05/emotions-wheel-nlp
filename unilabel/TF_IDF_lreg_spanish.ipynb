{
  "nbformat": 4,
  "nbformat_minor": 0,
  "metadata": {
    "colab": {
      "provenance": [],
      "include_colab_link": true
    },
    "kernelspec": {
      "name": "python3",
      "display_name": "Python 3"
    },
    "language_info": {
      "name": "python"
    }
  },
  "cells": [
    {
      "cell_type": "markdown",
      "metadata": {
        "id": "view-in-github",
        "colab_type": "text"
      },
      "source": [
        "<a href=\"https://colab.research.google.com/github/eric-castillo05/emotions-wheel-nlp/blob/main/unilabel/TF_IDF_lreg_spanish.ipynb\" target=\"_parent\"><img src=\"https://colab.research.google.com/assets/colab-badge.svg\" alt=\"Open In Colab\"/></a>"
      ]
    },
    {
      "cell_type": "code",
      "execution_count": 1,
      "metadata": {
        "id": "K8PVxJiWb8HW"
      },
      "outputs": [],
      "source": [
        "import polars as pl\n",
        "import numpy as np"
      ]
    },
    {
      "cell_type": "code",
      "source": [
        "df_train = pl.read_csv('/content/train_translated.csv')\n",
        "df_test = pl.read_csv('/content/train_translated.csv')"
      ],
      "metadata": {
        "id": "s8DzIcrAcBvx"
      },
      "execution_count": 2,
      "outputs": []
    },
    {
      "cell_type": "code",
      "source": [
        "df_train"
      ],
      "metadata": {
        "colab": {
          "base_uri": "https://localhost:8080/",
          "height": 443
        },
        "id": "QOfERSAddAWt",
        "outputId": "b78f0972-a30e-432a-f35b-f7ecd4a813da"
      },
      "execution_count": 3,
      "outputs": [
        {
          "output_type": "execute_result",
          "data": {
            "text/plain": [
              "shape: (16_000, 4)\n",
              "┌───────┬─────────────────────────────────┬─────────┬─────────────────────────────────┐\n",
              "│ id    ┆ texto                           ┆ emocion ┆ texto_en2esp_marian             │\n",
              "│ ---   ┆ ---                             ┆ ---     ┆ ---                             │\n",
              "│ i64   ┆ str                             ┆ str     ┆ str                             │\n",
              "╞═══════╪═════════════════════════════════╪═════════╪═════════════════════════════════╡\n",
              "│ 1     ┆ i didnt feel humiliated         ┆ sadness ┆ No me sentí humillada.          │\n",
              "│ 2     ┆ i can go from feeling so hopel… ┆ sadness ┆ Puedo pasar de sentirme tan de… │\n",
              "│ 3     ┆ im grabbing a minute to post i… ┆ anger   ┆ Estoy agarrando un minuto para… │\n",
              "│ 4     ┆ i am ever feeling nostalgic ab… ┆ love    ┆ Me siento nostálgico sobre la … │\n",
              "│ 5     ┆ i am feeling grouchy            ┆ anger   ┆ Me siento gruñón.               │\n",
              "│ …     ┆ …                               ┆ …       ┆ …                               │\n",
              "│ 15996 ┆ i just had a very brief time i… ┆ sadness ┆ Acabo de tener un tiempo muy b… │\n",
              "│ 15997 ┆ i am now turning and i feel pa… ┆ sadness ┆ Ahora estoy girando y me sient… │\n",
              "│ 15998 ┆ i feel strong and good overall  ┆ joy     ┆ Me siento fuerte y bien en gen… │\n",
              "│ 15999 ┆ i feel like this was such a ru… ┆ anger   ┆ Me siento como si esto fuera u… │\n",
              "│ 16000 ┆ i know a lot but i feel so stu… ┆ sadness ┆ Sé mucho, pero me siento tan e… │\n",
              "└───────┴─────────────────────────────────┴─────────┴─────────────────────────────────┘"
            ],
            "text/html": [
              "<div><style>\n",
              ".dataframe > thead > tr,\n",
              ".dataframe > tbody > tr {\n",
              "  text-align: right;\n",
              "  white-space: pre-wrap;\n",
              "}\n",
              "</style>\n",
              "<small>shape: (16_000, 4)</small><table border=\"1\" class=\"dataframe\"><thead><tr><th>id</th><th>texto</th><th>emocion</th><th>texto_en2esp_marian</th></tr><tr><td>i64</td><td>str</td><td>str</td><td>str</td></tr></thead><tbody><tr><td>1</td><td>&quot;i didnt feel humiliated&quot;</td><td>&quot;sadness&quot;</td><td>&quot;No me sentí humillada.&quot;</td></tr><tr><td>2</td><td>&quot;i can go from feeling so hopel…</td><td>&quot;sadness&quot;</td><td>&quot;Puedo pasar de sentirme tan de…</td></tr><tr><td>3</td><td>&quot;im grabbing a minute to post i…</td><td>&quot;anger&quot;</td><td>&quot;Estoy agarrando un minuto para…</td></tr><tr><td>4</td><td>&quot;i am ever feeling nostalgic ab…</td><td>&quot;love&quot;</td><td>&quot;Me siento nostálgico sobre la …</td></tr><tr><td>5</td><td>&quot;i am feeling grouchy&quot;</td><td>&quot;anger&quot;</td><td>&quot;Me siento gruñón.&quot;</td></tr><tr><td>&hellip;</td><td>&hellip;</td><td>&hellip;</td><td>&hellip;</td></tr><tr><td>15996</td><td>&quot;i just had a very brief time i…</td><td>&quot;sadness&quot;</td><td>&quot;Acabo de tener un tiempo muy b…</td></tr><tr><td>15997</td><td>&quot;i am now turning and i feel pa…</td><td>&quot;sadness&quot;</td><td>&quot;Ahora estoy girando y me sient…</td></tr><tr><td>15998</td><td>&quot;i feel strong and good overall&quot;</td><td>&quot;joy&quot;</td><td>&quot;Me siento fuerte y bien en gen…</td></tr><tr><td>15999</td><td>&quot;i feel like this was such a ru…</td><td>&quot;anger&quot;</td><td>&quot;Me siento como si esto fuera u…</td></tr><tr><td>16000</td><td>&quot;i know a lot but i feel so stu…</td><td>&quot;sadness&quot;</td><td>&quot;Sé mucho, pero me siento tan e…</td></tr></tbody></table></div>"
            ]
          },
          "metadata": {},
          "execution_count": 3
        }
      ]
    },
    {
      "cell_type": "code",
      "source": [
        "df_test"
      ],
      "metadata": {
        "colab": {
          "base_uri": "https://localhost:8080/",
          "height": 443
        },
        "id": "ULWdcoyyfqsx",
        "outputId": "1d0ae45a-5ed6-4558-cacf-c519dca6e87c"
      },
      "execution_count": 4,
      "outputs": [
        {
          "output_type": "execute_result",
          "data": {
            "text/plain": [
              "shape: (16_000, 4)\n",
              "┌───────┬─────────────────────────────────┬─────────┬─────────────────────────────────┐\n",
              "│ id    ┆ texto                           ┆ emocion ┆ texto_en2esp_marian             │\n",
              "│ ---   ┆ ---                             ┆ ---     ┆ ---                             │\n",
              "│ i64   ┆ str                             ┆ str     ┆ str                             │\n",
              "╞═══════╪═════════════════════════════════╪═════════╪═════════════════════════════════╡\n",
              "│ 1     ┆ i didnt feel humiliated         ┆ sadness ┆ No me sentí humillada.          │\n",
              "│ 2     ┆ i can go from feeling so hopel… ┆ sadness ┆ Puedo pasar de sentirme tan de… │\n",
              "│ 3     ┆ im grabbing a minute to post i… ┆ anger   ┆ Estoy agarrando un minuto para… │\n",
              "│ 4     ┆ i am ever feeling nostalgic ab… ┆ love    ┆ Me siento nostálgico sobre la … │\n",
              "│ 5     ┆ i am feeling grouchy            ┆ anger   ┆ Me siento gruñón.               │\n",
              "│ …     ┆ …                               ┆ …       ┆ …                               │\n",
              "│ 15996 ┆ i just had a very brief time i… ┆ sadness ┆ Acabo de tener un tiempo muy b… │\n",
              "│ 15997 ┆ i am now turning and i feel pa… ┆ sadness ┆ Ahora estoy girando y me sient… │\n",
              "│ 15998 ┆ i feel strong and good overall  ┆ joy     ┆ Me siento fuerte y bien en gen… │\n",
              "│ 15999 ┆ i feel like this was such a ru… ┆ anger   ┆ Me siento como si esto fuera u… │\n",
              "│ 16000 ┆ i know a lot but i feel so stu… ┆ sadness ┆ Sé mucho, pero me siento tan e… │\n",
              "└───────┴─────────────────────────────────┴─────────┴─────────────────────────────────┘"
            ],
            "text/html": [
              "<div><style>\n",
              ".dataframe > thead > tr,\n",
              ".dataframe > tbody > tr {\n",
              "  text-align: right;\n",
              "  white-space: pre-wrap;\n",
              "}\n",
              "</style>\n",
              "<small>shape: (16_000, 4)</small><table border=\"1\" class=\"dataframe\"><thead><tr><th>id</th><th>texto</th><th>emocion</th><th>texto_en2esp_marian</th></tr><tr><td>i64</td><td>str</td><td>str</td><td>str</td></tr></thead><tbody><tr><td>1</td><td>&quot;i didnt feel humiliated&quot;</td><td>&quot;sadness&quot;</td><td>&quot;No me sentí humillada.&quot;</td></tr><tr><td>2</td><td>&quot;i can go from feeling so hopel…</td><td>&quot;sadness&quot;</td><td>&quot;Puedo pasar de sentirme tan de…</td></tr><tr><td>3</td><td>&quot;im grabbing a minute to post i…</td><td>&quot;anger&quot;</td><td>&quot;Estoy agarrando un minuto para…</td></tr><tr><td>4</td><td>&quot;i am ever feeling nostalgic ab…</td><td>&quot;love&quot;</td><td>&quot;Me siento nostálgico sobre la …</td></tr><tr><td>5</td><td>&quot;i am feeling grouchy&quot;</td><td>&quot;anger&quot;</td><td>&quot;Me siento gruñón.&quot;</td></tr><tr><td>&hellip;</td><td>&hellip;</td><td>&hellip;</td><td>&hellip;</td></tr><tr><td>15996</td><td>&quot;i just had a very brief time i…</td><td>&quot;sadness&quot;</td><td>&quot;Acabo de tener un tiempo muy b…</td></tr><tr><td>15997</td><td>&quot;i am now turning and i feel pa…</td><td>&quot;sadness&quot;</td><td>&quot;Ahora estoy girando y me sient…</td></tr><tr><td>15998</td><td>&quot;i feel strong and good overall&quot;</td><td>&quot;joy&quot;</td><td>&quot;Me siento fuerte y bien en gen…</td></tr><tr><td>15999</td><td>&quot;i feel like this was such a ru…</td><td>&quot;anger&quot;</td><td>&quot;Me siento como si esto fuera u…</td></tr><tr><td>16000</td><td>&quot;i know a lot but i feel so stu…</td><td>&quot;sadness&quot;</td><td>&quot;Sé mucho, pero me siento tan e…</td></tr></tbody></table></div>"
            ]
          },
          "metadata": {},
          "execution_count": 4
        }
      ]
    },
    {
      "cell_type": "code",
      "source": [
        "df_train = df_train.rename({\n",
        "    'emocion': 'label',\n",
        "    'texto_en2esp_marian': 'text'\n",
        "})\n",
        "df_train = df_train.drop(['texto', 'id'])\n",
        "\n",
        "\n",
        "df_test = df_test.rename({\n",
        "    'emocion': 'label',\n",
        "    'texto_en2esp_marian': 'text'\n",
        "})\n",
        "df_test = df_test.drop(['texto', 'id'])"
      ],
      "metadata": {
        "id": "WYdm_jmzdAud"
      },
      "execution_count": 5,
      "outputs": []
    },
    {
      "cell_type": "code",
      "source": [
        "df_train"
      ],
      "metadata": {
        "colab": {
          "base_uri": "https://localhost:8080/",
          "height": 443
        },
        "id": "6rzcBNNndboe",
        "outputId": "0f25e419-ab74-4de8-bb9c-208d4e9e7239"
      },
      "execution_count": 6,
      "outputs": [
        {
          "output_type": "execute_result",
          "data": {
            "text/plain": [
              "shape: (16_000, 2)\n",
              "┌─────────┬─────────────────────────────────┐\n",
              "│ label   ┆ text                            │\n",
              "│ ---     ┆ ---                             │\n",
              "│ str     ┆ str                             │\n",
              "╞═════════╪═════════════════════════════════╡\n",
              "│ sadness ┆ No me sentí humillada.          │\n",
              "│ sadness ┆ Puedo pasar de sentirme tan de… │\n",
              "│ anger   ┆ Estoy agarrando un minuto para… │\n",
              "│ love    ┆ Me siento nostálgico sobre la … │\n",
              "│ anger   ┆ Me siento gruñón.               │\n",
              "│ …       ┆ …                               │\n",
              "│ sadness ┆ Acabo de tener un tiempo muy b… │\n",
              "│ sadness ┆ Ahora estoy girando y me sient… │\n",
              "│ joy     ┆ Me siento fuerte y bien en gen… │\n",
              "│ anger   ┆ Me siento como si esto fuera u… │\n",
              "│ sadness ┆ Sé mucho, pero me siento tan e… │\n",
              "└─────────┴─────────────────────────────────┘"
            ],
            "text/html": [
              "<div><style>\n",
              ".dataframe > thead > tr,\n",
              ".dataframe > tbody > tr {\n",
              "  text-align: right;\n",
              "  white-space: pre-wrap;\n",
              "}\n",
              "</style>\n",
              "<small>shape: (16_000, 2)</small><table border=\"1\" class=\"dataframe\"><thead><tr><th>label</th><th>text</th></tr><tr><td>str</td><td>str</td></tr></thead><tbody><tr><td>&quot;sadness&quot;</td><td>&quot;No me sentí humillada.&quot;</td></tr><tr><td>&quot;sadness&quot;</td><td>&quot;Puedo pasar de sentirme tan de…</td></tr><tr><td>&quot;anger&quot;</td><td>&quot;Estoy agarrando un minuto para…</td></tr><tr><td>&quot;love&quot;</td><td>&quot;Me siento nostálgico sobre la …</td></tr><tr><td>&quot;anger&quot;</td><td>&quot;Me siento gruñón.&quot;</td></tr><tr><td>&hellip;</td><td>&hellip;</td></tr><tr><td>&quot;sadness&quot;</td><td>&quot;Acabo de tener un tiempo muy b…</td></tr><tr><td>&quot;sadness&quot;</td><td>&quot;Ahora estoy girando y me sient…</td></tr><tr><td>&quot;joy&quot;</td><td>&quot;Me siento fuerte y bien en gen…</td></tr><tr><td>&quot;anger&quot;</td><td>&quot;Me siento como si esto fuera u…</td></tr><tr><td>&quot;sadness&quot;</td><td>&quot;Sé mucho, pero me siento tan e…</td></tr></tbody></table></div>"
            ]
          },
          "metadata": {},
          "execution_count": 6
        }
      ]
    },
    {
      "cell_type": "code",
      "source": [
        "df_test"
      ],
      "metadata": {
        "colab": {
          "base_uri": "https://localhost:8080/",
          "height": 443
        },
        "id": "Vi49EhMMf3y2",
        "outputId": "26ede0ae-f87a-4c7d-c77b-8f1b65a6d229"
      },
      "execution_count": 7,
      "outputs": [
        {
          "output_type": "execute_result",
          "data": {
            "text/plain": [
              "shape: (16_000, 2)\n",
              "┌─────────┬─────────────────────────────────┐\n",
              "│ label   ┆ text                            │\n",
              "│ ---     ┆ ---                             │\n",
              "│ str     ┆ str                             │\n",
              "╞═════════╪═════════════════════════════════╡\n",
              "│ sadness ┆ No me sentí humillada.          │\n",
              "│ sadness ┆ Puedo pasar de sentirme tan de… │\n",
              "│ anger   ┆ Estoy agarrando un minuto para… │\n",
              "│ love    ┆ Me siento nostálgico sobre la … │\n",
              "│ anger   ┆ Me siento gruñón.               │\n",
              "│ …       ┆ …                               │\n",
              "│ sadness ┆ Acabo de tener un tiempo muy b… │\n",
              "│ sadness ┆ Ahora estoy girando y me sient… │\n",
              "│ joy     ┆ Me siento fuerte y bien en gen… │\n",
              "│ anger   ┆ Me siento como si esto fuera u… │\n",
              "│ sadness ┆ Sé mucho, pero me siento tan e… │\n",
              "└─────────┴─────────────────────────────────┘"
            ],
            "text/html": [
              "<div><style>\n",
              ".dataframe > thead > tr,\n",
              ".dataframe > tbody > tr {\n",
              "  text-align: right;\n",
              "  white-space: pre-wrap;\n",
              "}\n",
              "</style>\n",
              "<small>shape: (16_000, 2)</small><table border=\"1\" class=\"dataframe\"><thead><tr><th>label</th><th>text</th></tr><tr><td>str</td><td>str</td></tr></thead><tbody><tr><td>&quot;sadness&quot;</td><td>&quot;No me sentí humillada.&quot;</td></tr><tr><td>&quot;sadness&quot;</td><td>&quot;Puedo pasar de sentirme tan de…</td></tr><tr><td>&quot;anger&quot;</td><td>&quot;Estoy agarrando un minuto para…</td></tr><tr><td>&quot;love&quot;</td><td>&quot;Me siento nostálgico sobre la …</td></tr><tr><td>&quot;anger&quot;</td><td>&quot;Me siento gruñón.&quot;</td></tr><tr><td>&hellip;</td><td>&hellip;</td></tr><tr><td>&quot;sadness&quot;</td><td>&quot;Acabo de tener un tiempo muy b…</td></tr><tr><td>&quot;sadness&quot;</td><td>&quot;Ahora estoy girando y me sient…</td></tr><tr><td>&quot;joy&quot;</td><td>&quot;Me siento fuerte y bien en gen…</td></tr><tr><td>&quot;anger&quot;</td><td>&quot;Me siento como si esto fuera u…</td></tr><tr><td>&quot;sadness&quot;</td><td>&quot;Sé mucho, pero me siento tan e…</td></tr></tbody></table></div>"
            ]
          },
          "metadata": {},
          "execution_count": 7
        }
      ]
    },
    {
      "cell_type": "code",
      "source": [
        "import re\n",
        "import nltk\n",
        "from nltk.corpus import stopwords\n",
        "import string\n",
        "from sklearn.pipeline import FeatureUnion\n",
        "from sklearn.feature_extraction.text import TfidfVectorizer\n",
        "from sklearn.preprocessing import FunctionTransformer\n",
        "from sklearn.preprocessing import normalize\n",
        "import spacy"
      ],
      "metadata": {
        "id": "cELwmHq2dw9k"
      },
      "execution_count": 8,
      "outputs": []
    },
    {
      "cell_type": "code",
      "source": [
        "def remove_vowels_accents(sentence):\n",
        "        sentence = re.sub(r\"[áàäâ]\", \"a\", sentence)\n",
        "        sentence = re.sub(r\"[éèëê]\", \"e\", sentence)\n",
        "        sentence = re.sub(r\"[íìïî]\", \"i\", sentence)\n",
        "        sentence = re.sub(r\"[óòöô]\", \"o\", sentence)\n",
        "        sentence = re.sub(r\"[úùüû]\", \"u\", sentence)\n",
        "        sentence = re.sub(r\"[ÁÀÄÂ]\", \"A\", sentence)\n",
        "        sentence = re.sub(r\"[ÉÈËÊ]\", \"E\", sentence)\n",
        "        sentence = re.sub(r\"[ÍÌÏÎ]\", \"I\", sentence)\n",
        "        sentence = re.sub(r\"[ÓÒÖÔ]\", \"O\", sentence)\n",
        "        sentence = re.sub(r\"[ÚÙÜÛ]\", \"U\", sentence)\n",
        "        return sentence\n",
        "\n",
        "def remove_unprintable(sentence):\n",
        "      printable = set(string.printable + \"ñáéíóúü\" + \"ÑÁÉÍÓÚÜ\")\n",
        "      sentence = \"\".join(filter(lambda x: x in printable, sentence))\n",
        "      return sentence\n",
        "\n",
        "def removePunctuation(sentence):\n",
        "    sentence = re.sub(r'[?|¿|¡|!|\\'|\"|#]',r'',sentence)\n",
        "    sentence = re.sub(r'[.|,|)|(|\\|/]',r' ',sentence)\n",
        "    sentence = sentence.strip()\n",
        "    sentence = sentence.replace(\"\\n\",\" \")\n",
        "    return sentence\n",
        "\n",
        "def removeNumber(sentence):\n",
        "    alpha_sent = \"\"\n",
        "    for word in sentence.split():\n",
        "        alpha_word = re.sub('[^a-z A-Z]+', '', word)\n",
        "        alpha_sent += alpha_word\n",
        "        alpha_sent += \" \"\n",
        "    alpha_sent = alpha_sent.strip()\n",
        "    return alpha_sent\n",
        "\n",
        "def removeStopWords(sentence):\n",
        "    stop_words = set(stopwords.words('spanish'))\n",
        "    filtered_sentence = [w for w in sentence.split() if not w.lower() in stop_words]\n",
        "    return \" \".join(filtered_sentence)"
      ],
      "metadata": {
        "id": "xb4yaJYbeCnQ"
      },
      "execution_count": 9,
      "outputs": []
    },
    {
      "cell_type": "code",
      "source": [
        "nltk.download('stopwords')"
      ],
      "metadata": {
        "colab": {
          "base_uri": "https://localhost:8080/"
        },
        "id": "Uxgm4pZLiAI_",
        "outputId": "5bbf4bb8-744c-4a6f-9a7d-8d6670d3adc3"
      },
      "execution_count": 10,
      "outputs": [
        {
          "output_type": "stream",
          "name": "stderr",
          "text": [
            "[nltk_data] Downloading package stopwords to /root/nltk_data...\n",
            "[nltk_data]   Unzipping corpora/stopwords.zip.\n"
          ]
        },
        {
          "output_type": "execute_result",
          "data": {
            "text/plain": [
              "True"
            ]
          },
          "metadata": {},
          "execution_count": 10
        }
      ]
    },
    {
      "cell_type": "code",
      "source": [
        "!python -m spacy download es_core_news_lg"
      ],
      "metadata": {
        "colab": {
          "base_uri": "https://localhost:8080/"
        },
        "id": "qTi6-dSZeE-d",
        "outputId": "99a943ff-13c9-49db-ca73-b832d1647306"
      },
      "execution_count": 11,
      "outputs": [
        {
          "output_type": "stream",
          "name": "stdout",
          "text": [
            "Collecting es-core-news-lg==3.8.0\n",
            "  Downloading https://github.com/explosion/spacy-models/releases/download/es_core_news_lg-3.8.0/es_core_news_lg-3.8.0-py3-none-any.whl (568.0 MB)\n",
            "\u001b[2K     \u001b[90m━━━━━━━━━━━━━━━━━━━━━━━━━━━━━━━━━━━━━━━\u001b[0m \u001b[32m568.0/568.0 MB\u001b[0m \u001b[31m3.3 MB/s\u001b[0m eta \u001b[36m0:00:00\u001b[0m\n",
            "\u001b[?25hInstalling collected packages: es-core-news-lg\n",
            "Successfully installed es-core-news-lg-3.8.0\n",
            "\u001b[38;5;2m✔ Download and installation successful\u001b[0m\n",
            "You can now load the package via spacy.load('es_core_news_lg')\n",
            "\u001b[38;5;3m⚠ Restart to reload dependencies\u001b[0m\n",
            "If you are in a Jupyter or Colab notebook, you may need to restart Python in\n",
            "order to load all the package's dependencies. You can do this by selecting the\n",
            "'Restart kernel' or 'Restart runtime' option.\n"
          ]
        }
      ]
    },
    {
      "cell_type": "code",
      "source": [
        "nlp = spacy.load(\"es_core_news_lg\", disable=[\"parser\", \"ner\"])"
      ],
      "metadata": {
        "id": "CADP-g-zgmfP"
      },
      "execution_count": 12,
      "outputs": []
    },
    {
      "cell_type": "code",
      "source": [
        "def spacy_embeddings(texts):\n",
        "    texts_processed = [remove_vowels_accents(t) for t in texts]\n",
        "    texts_processed = [remove_unprintable(t) for t in texts]\n",
        "    docs = list(nlp.pipe(texts_processed, batch_size=50))\n",
        "    vectors = np.array([doc.vector for doc in docs])\n",
        "    return normalize(vectors, norm='l2')"
      ],
      "metadata": {
        "id": "mGgTfTnJgu2B"
      },
      "execution_count": 13,
      "outputs": []
    },
    {
      "cell_type": "code",
      "source": [
        "def custom_preprocess(text):\n",
        "    text = remove_vowels_accents(text)\n",
        "    text = removePunctuation(text)\n",
        "    text = remove_unprintable(text)\n",
        "    text = removeNumber(text)\n",
        "    text = removeStopWords(text)\n",
        "    doc = nlp(text)\n",
        "    lemmas = [token.lemma_ for token in doc if token.lemma_ != '-PRON-']\n",
        "    return ' '.join(lemmas)"
      ],
      "metadata": {
        "id": "VvSLhk49gwUS"
      },
      "execution_count": 14,
      "outputs": []
    },
    {
      "cell_type": "code",
      "source": [
        "from sklearn.pipeline import Pipeline\n",
        "from sklearn.preprocessing import StandardScaler"
      ],
      "metadata": {
        "id": "P2Bpq0w3g023"
      },
      "execution_count": 15,
      "outputs": []
    },
    {
      "cell_type": "code",
      "source": [
        "feature_union = FeatureUnion([\n",
        "    (\"tfidf\", TfidfVectorizer(\n",
        "        preprocessor=custom_preprocess,\n",
        "        ngram_range=(1, 2),\n",
        "        max_features=8000,\n",
        "        norm=\"l2\"\n",
        "    )),\n",
        "    (\"embeddings\", FunctionTransformer(\n",
        "        spacy_embeddings,\n",
        "        validate=False\n",
        "    ))\n",
        "])"
      ],
      "metadata": {
        "id": "tiVu4bk2g1In"
      },
      "execution_count": 16,
      "outputs": []
    },
    {
      "cell_type": "code",
      "source": [
        "X_train, y_train = df_train.select('text').to_series().to_list(), df_train.select('label').to_series().to_list()\n",
        "X_test, y_test = df_test.select('text').to_series().to_list(), df_test.select('label').to_series().to_list()"
      ],
      "metadata": {
        "id": "Oddpwvt3g2a4"
      },
      "execution_count": 17,
      "outputs": []
    },
    {
      "cell_type": "code",
      "source": [
        "X_train = feature_union.fit_transform(X_train)\n",
        "X_test = feature_union.transform(X_test)"
      ],
      "metadata": {
        "id": "yMYo2wIShHIA"
      },
      "execution_count": 18,
      "outputs": []
    },
    {
      "cell_type": "code",
      "source": [
        "from sklearn.preprocessing import LabelEncoder"
      ],
      "metadata": {
        "id": "6wmMfhmChKOx"
      },
      "execution_count": 19,
      "outputs": []
    },
    {
      "cell_type": "code",
      "source": [
        "le = LabelEncoder()"
      ],
      "metadata": {
        "id": "5KdeGYgpkRm3"
      },
      "execution_count": 20,
      "outputs": []
    },
    {
      "cell_type": "code",
      "source": [
        "y_train = le.fit_transform(y_train)\n",
        "y_test = le.transform(y_test)"
      ],
      "metadata": {
        "id": "VavNbr0zkVmB"
      },
      "execution_count": 21,
      "outputs": []
    },
    {
      "cell_type": "code",
      "source": [
        "from sklearn.metrics import classification_report\n",
        "from sklearn.linear_model import LogisticRegression\n",
        "from sklearn.metrics import classification_report, confusion_matrix, ConfusionMatrixDisplay, precision_recall_fscore_support"
      ],
      "metadata": {
        "id": "VHGg7yPxkXNM"
      },
      "execution_count": null,
      "outputs": []
    },
    {
      "cell_type": "code",
      "source": [
        "lreg = LogisticRegression(max_iter = 1000)"
      ],
      "metadata": {
        "id": "Pe6PikhFkYtz"
      },
      "execution_count": null,
      "outputs": []
    },
    {
      "cell_type": "code",
      "source": [
        "lreg.fit(X_train, y_train)"
      ],
      "metadata": {
        "colab": {
          "base_uri": "https://localhost:8080/",
          "height": 80
        },
        "id": "Ae3CdqTDkabh",
        "outputId": "9a4158f6-dbc4-4b5b-f624-9804749315c0"
      },
      "execution_count": null,
      "outputs": [
        {
          "output_type": "execute_result",
          "data": {
            "text/plain": [
              "LogisticRegression(max_iter=1000)"
            ],
            "text/html": [
              "<style>#sk-container-id-1 {\n",
              "  /* Definition of color scheme common for light and dark mode */\n",
              "  --sklearn-color-text: #000;\n",
              "  --sklearn-color-text-muted: #666;\n",
              "  --sklearn-color-line: gray;\n",
              "  /* Definition of color scheme for unfitted estimators */\n",
              "  --sklearn-color-unfitted-level-0: #fff5e6;\n",
              "  --sklearn-color-unfitted-level-1: #f6e4d2;\n",
              "  --sklearn-color-unfitted-level-2: #ffe0b3;\n",
              "  --sklearn-color-unfitted-level-3: chocolate;\n",
              "  /* Definition of color scheme for fitted estimators */\n",
              "  --sklearn-color-fitted-level-0: #f0f8ff;\n",
              "  --sklearn-color-fitted-level-1: #d4ebff;\n",
              "  --sklearn-color-fitted-level-2: #b3dbfd;\n",
              "  --sklearn-color-fitted-level-3: cornflowerblue;\n",
              "\n",
              "  /* Specific color for light theme */\n",
              "  --sklearn-color-text-on-default-background: var(--sg-text-color, var(--theme-code-foreground, var(--jp-content-font-color1, black)));\n",
              "  --sklearn-color-background: var(--sg-background-color, var(--theme-background, var(--jp-layout-color0, white)));\n",
              "  --sklearn-color-border-box: var(--sg-text-color, var(--theme-code-foreground, var(--jp-content-font-color1, black)));\n",
              "  --sklearn-color-icon: #696969;\n",
              "\n",
              "  @media (prefers-color-scheme: dark) {\n",
              "    /* Redefinition of color scheme for dark theme */\n",
              "    --sklearn-color-text-on-default-background: var(--sg-text-color, var(--theme-code-foreground, var(--jp-content-font-color1, white)));\n",
              "    --sklearn-color-background: var(--sg-background-color, var(--theme-background, var(--jp-layout-color0, #111)));\n",
              "    --sklearn-color-border-box: var(--sg-text-color, var(--theme-code-foreground, var(--jp-content-font-color1, white)));\n",
              "    --sklearn-color-icon: #878787;\n",
              "  }\n",
              "}\n",
              "\n",
              "#sk-container-id-1 {\n",
              "  color: var(--sklearn-color-text);\n",
              "}\n",
              "\n",
              "#sk-container-id-1 pre {\n",
              "  padding: 0;\n",
              "}\n",
              "\n",
              "#sk-container-id-1 input.sk-hidden--visually {\n",
              "  border: 0;\n",
              "  clip: rect(1px 1px 1px 1px);\n",
              "  clip: rect(1px, 1px, 1px, 1px);\n",
              "  height: 1px;\n",
              "  margin: -1px;\n",
              "  overflow: hidden;\n",
              "  padding: 0;\n",
              "  position: absolute;\n",
              "  width: 1px;\n",
              "}\n",
              "\n",
              "#sk-container-id-1 div.sk-dashed-wrapped {\n",
              "  border: 1px dashed var(--sklearn-color-line);\n",
              "  margin: 0 0.4em 0.5em 0.4em;\n",
              "  box-sizing: border-box;\n",
              "  padding-bottom: 0.4em;\n",
              "  background-color: var(--sklearn-color-background);\n",
              "}\n",
              "\n",
              "#sk-container-id-1 div.sk-container {\n",
              "  /* jupyter's `normalize.less` sets `[hidden] { display: none; }`\n",
              "     but bootstrap.min.css set `[hidden] { display: none !important; }`\n",
              "     so we also need the `!important` here to be able to override the\n",
              "     default hidden behavior on the sphinx rendered scikit-learn.org.\n",
              "     See: https://github.com/scikit-learn/scikit-learn/issues/21755 */\n",
              "  display: inline-block !important;\n",
              "  position: relative;\n",
              "}\n",
              "\n",
              "#sk-container-id-1 div.sk-text-repr-fallback {\n",
              "  display: none;\n",
              "}\n",
              "\n",
              "div.sk-parallel-item,\n",
              "div.sk-serial,\n",
              "div.sk-item {\n",
              "  /* draw centered vertical line to link estimators */\n",
              "  background-image: linear-gradient(var(--sklearn-color-text-on-default-background), var(--sklearn-color-text-on-default-background));\n",
              "  background-size: 2px 100%;\n",
              "  background-repeat: no-repeat;\n",
              "  background-position: center center;\n",
              "}\n",
              "\n",
              "/* Parallel-specific style estimator block */\n",
              "\n",
              "#sk-container-id-1 div.sk-parallel-item::after {\n",
              "  content: \"\";\n",
              "  width: 100%;\n",
              "  border-bottom: 2px solid var(--sklearn-color-text-on-default-background);\n",
              "  flex-grow: 1;\n",
              "}\n",
              "\n",
              "#sk-container-id-1 div.sk-parallel {\n",
              "  display: flex;\n",
              "  align-items: stretch;\n",
              "  justify-content: center;\n",
              "  background-color: var(--sklearn-color-background);\n",
              "  position: relative;\n",
              "}\n",
              "\n",
              "#sk-container-id-1 div.sk-parallel-item {\n",
              "  display: flex;\n",
              "  flex-direction: column;\n",
              "}\n",
              "\n",
              "#sk-container-id-1 div.sk-parallel-item:first-child::after {\n",
              "  align-self: flex-end;\n",
              "  width: 50%;\n",
              "}\n",
              "\n",
              "#sk-container-id-1 div.sk-parallel-item:last-child::after {\n",
              "  align-self: flex-start;\n",
              "  width: 50%;\n",
              "}\n",
              "\n",
              "#sk-container-id-1 div.sk-parallel-item:only-child::after {\n",
              "  width: 0;\n",
              "}\n",
              "\n",
              "/* Serial-specific style estimator block */\n",
              "\n",
              "#sk-container-id-1 div.sk-serial {\n",
              "  display: flex;\n",
              "  flex-direction: column;\n",
              "  align-items: center;\n",
              "  background-color: var(--sklearn-color-background);\n",
              "  padding-right: 1em;\n",
              "  padding-left: 1em;\n",
              "}\n",
              "\n",
              "\n",
              "/* Toggleable style: style used for estimator/Pipeline/ColumnTransformer box that is\n",
              "clickable and can be expanded/collapsed.\n",
              "- Pipeline and ColumnTransformer use this feature and define the default style\n",
              "- Estimators will overwrite some part of the style using the `sk-estimator` class\n",
              "*/\n",
              "\n",
              "/* Pipeline and ColumnTransformer style (default) */\n",
              "\n",
              "#sk-container-id-1 div.sk-toggleable {\n",
              "  /* Default theme specific background. It is overwritten whether we have a\n",
              "  specific estimator or a Pipeline/ColumnTransformer */\n",
              "  background-color: var(--sklearn-color-background);\n",
              "}\n",
              "\n",
              "/* Toggleable label */\n",
              "#sk-container-id-1 label.sk-toggleable__label {\n",
              "  cursor: pointer;\n",
              "  display: flex;\n",
              "  width: 100%;\n",
              "  margin-bottom: 0;\n",
              "  padding: 0.5em;\n",
              "  box-sizing: border-box;\n",
              "  text-align: center;\n",
              "  align-items: start;\n",
              "  justify-content: space-between;\n",
              "  gap: 0.5em;\n",
              "}\n",
              "\n",
              "#sk-container-id-1 label.sk-toggleable__label .caption {\n",
              "  font-size: 0.6rem;\n",
              "  font-weight: lighter;\n",
              "  color: var(--sklearn-color-text-muted);\n",
              "}\n",
              "\n",
              "#sk-container-id-1 label.sk-toggleable__label-arrow:before {\n",
              "  /* Arrow on the left of the label */\n",
              "  content: \"▸\";\n",
              "  float: left;\n",
              "  margin-right: 0.25em;\n",
              "  color: var(--sklearn-color-icon);\n",
              "}\n",
              "\n",
              "#sk-container-id-1 label.sk-toggleable__label-arrow:hover:before {\n",
              "  color: var(--sklearn-color-text);\n",
              "}\n",
              "\n",
              "/* Toggleable content - dropdown */\n",
              "\n",
              "#sk-container-id-1 div.sk-toggleable__content {\n",
              "  max-height: 0;\n",
              "  max-width: 0;\n",
              "  overflow: hidden;\n",
              "  text-align: left;\n",
              "  /* unfitted */\n",
              "  background-color: var(--sklearn-color-unfitted-level-0);\n",
              "}\n",
              "\n",
              "#sk-container-id-1 div.sk-toggleable__content.fitted {\n",
              "  /* fitted */\n",
              "  background-color: var(--sklearn-color-fitted-level-0);\n",
              "}\n",
              "\n",
              "#sk-container-id-1 div.sk-toggleable__content pre {\n",
              "  margin: 0.2em;\n",
              "  border-radius: 0.25em;\n",
              "  color: var(--sklearn-color-text);\n",
              "  /* unfitted */\n",
              "  background-color: var(--sklearn-color-unfitted-level-0);\n",
              "}\n",
              "\n",
              "#sk-container-id-1 div.sk-toggleable__content.fitted pre {\n",
              "  /* unfitted */\n",
              "  background-color: var(--sklearn-color-fitted-level-0);\n",
              "}\n",
              "\n",
              "#sk-container-id-1 input.sk-toggleable__control:checked~div.sk-toggleable__content {\n",
              "  /* Expand drop-down */\n",
              "  max-height: 200px;\n",
              "  max-width: 100%;\n",
              "  overflow: auto;\n",
              "}\n",
              "\n",
              "#sk-container-id-1 input.sk-toggleable__control:checked~label.sk-toggleable__label-arrow:before {\n",
              "  content: \"▾\";\n",
              "}\n",
              "\n",
              "/* Pipeline/ColumnTransformer-specific style */\n",
              "\n",
              "#sk-container-id-1 div.sk-label input.sk-toggleable__control:checked~label.sk-toggleable__label {\n",
              "  color: var(--sklearn-color-text);\n",
              "  background-color: var(--sklearn-color-unfitted-level-2);\n",
              "}\n",
              "\n",
              "#sk-container-id-1 div.sk-label.fitted input.sk-toggleable__control:checked~label.sk-toggleable__label {\n",
              "  background-color: var(--sklearn-color-fitted-level-2);\n",
              "}\n",
              "\n",
              "/* Estimator-specific style */\n",
              "\n",
              "/* Colorize estimator box */\n",
              "#sk-container-id-1 div.sk-estimator input.sk-toggleable__control:checked~label.sk-toggleable__label {\n",
              "  /* unfitted */\n",
              "  background-color: var(--sklearn-color-unfitted-level-2);\n",
              "}\n",
              "\n",
              "#sk-container-id-1 div.sk-estimator.fitted input.sk-toggleable__control:checked~label.sk-toggleable__label {\n",
              "  /* fitted */\n",
              "  background-color: var(--sklearn-color-fitted-level-2);\n",
              "}\n",
              "\n",
              "#sk-container-id-1 div.sk-label label.sk-toggleable__label,\n",
              "#sk-container-id-1 div.sk-label label {\n",
              "  /* The background is the default theme color */\n",
              "  color: var(--sklearn-color-text-on-default-background);\n",
              "}\n",
              "\n",
              "/* On hover, darken the color of the background */\n",
              "#sk-container-id-1 div.sk-label:hover label.sk-toggleable__label {\n",
              "  color: var(--sklearn-color-text);\n",
              "  background-color: var(--sklearn-color-unfitted-level-2);\n",
              "}\n",
              "\n",
              "/* Label box, darken color on hover, fitted */\n",
              "#sk-container-id-1 div.sk-label.fitted:hover label.sk-toggleable__label.fitted {\n",
              "  color: var(--sklearn-color-text);\n",
              "  background-color: var(--sklearn-color-fitted-level-2);\n",
              "}\n",
              "\n",
              "/* Estimator label */\n",
              "\n",
              "#sk-container-id-1 div.sk-label label {\n",
              "  font-family: monospace;\n",
              "  font-weight: bold;\n",
              "  display: inline-block;\n",
              "  line-height: 1.2em;\n",
              "}\n",
              "\n",
              "#sk-container-id-1 div.sk-label-container {\n",
              "  text-align: center;\n",
              "}\n",
              "\n",
              "/* Estimator-specific */\n",
              "#sk-container-id-1 div.sk-estimator {\n",
              "  font-family: monospace;\n",
              "  border: 1px dotted var(--sklearn-color-border-box);\n",
              "  border-radius: 0.25em;\n",
              "  box-sizing: border-box;\n",
              "  margin-bottom: 0.5em;\n",
              "  /* unfitted */\n",
              "  background-color: var(--sklearn-color-unfitted-level-0);\n",
              "}\n",
              "\n",
              "#sk-container-id-1 div.sk-estimator.fitted {\n",
              "  /* fitted */\n",
              "  background-color: var(--sklearn-color-fitted-level-0);\n",
              "}\n",
              "\n",
              "/* on hover */\n",
              "#sk-container-id-1 div.sk-estimator:hover {\n",
              "  /* unfitted */\n",
              "  background-color: var(--sklearn-color-unfitted-level-2);\n",
              "}\n",
              "\n",
              "#sk-container-id-1 div.sk-estimator.fitted:hover {\n",
              "  /* fitted */\n",
              "  background-color: var(--sklearn-color-fitted-level-2);\n",
              "}\n",
              "\n",
              "/* Specification for estimator info (e.g. \"i\" and \"?\") */\n",
              "\n",
              "/* Common style for \"i\" and \"?\" */\n",
              "\n",
              ".sk-estimator-doc-link,\n",
              "a:link.sk-estimator-doc-link,\n",
              "a:visited.sk-estimator-doc-link {\n",
              "  float: right;\n",
              "  font-size: smaller;\n",
              "  line-height: 1em;\n",
              "  font-family: monospace;\n",
              "  background-color: var(--sklearn-color-background);\n",
              "  border-radius: 1em;\n",
              "  height: 1em;\n",
              "  width: 1em;\n",
              "  text-decoration: none !important;\n",
              "  margin-left: 0.5em;\n",
              "  text-align: center;\n",
              "  /* unfitted */\n",
              "  border: var(--sklearn-color-unfitted-level-1) 1pt solid;\n",
              "  color: var(--sklearn-color-unfitted-level-1);\n",
              "}\n",
              "\n",
              ".sk-estimator-doc-link.fitted,\n",
              "a:link.sk-estimator-doc-link.fitted,\n",
              "a:visited.sk-estimator-doc-link.fitted {\n",
              "  /* fitted */\n",
              "  border: var(--sklearn-color-fitted-level-1) 1pt solid;\n",
              "  color: var(--sklearn-color-fitted-level-1);\n",
              "}\n",
              "\n",
              "/* On hover */\n",
              "div.sk-estimator:hover .sk-estimator-doc-link:hover,\n",
              ".sk-estimator-doc-link:hover,\n",
              "div.sk-label-container:hover .sk-estimator-doc-link:hover,\n",
              ".sk-estimator-doc-link:hover {\n",
              "  /* unfitted */\n",
              "  background-color: var(--sklearn-color-unfitted-level-3);\n",
              "  color: var(--sklearn-color-background);\n",
              "  text-decoration: none;\n",
              "}\n",
              "\n",
              "div.sk-estimator.fitted:hover .sk-estimator-doc-link.fitted:hover,\n",
              ".sk-estimator-doc-link.fitted:hover,\n",
              "div.sk-label-container:hover .sk-estimator-doc-link.fitted:hover,\n",
              ".sk-estimator-doc-link.fitted:hover {\n",
              "  /* fitted */\n",
              "  background-color: var(--sklearn-color-fitted-level-3);\n",
              "  color: var(--sklearn-color-background);\n",
              "  text-decoration: none;\n",
              "}\n",
              "\n",
              "/* Span, style for the box shown on hovering the info icon */\n",
              ".sk-estimator-doc-link span {\n",
              "  display: none;\n",
              "  z-index: 9999;\n",
              "  position: relative;\n",
              "  font-weight: normal;\n",
              "  right: .2ex;\n",
              "  padding: .5ex;\n",
              "  margin: .5ex;\n",
              "  width: min-content;\n",
              "  min-width: 20ex;\n",
              "  max-width: 50ex;\n",
              "  color: var(--sklearn-color-text);\n",
              "  box-shadow: 2pt 2pt 4pt #999;\n",
              "  /* unfitted */\n",
              "  background: var(--sklearn-color-unfitted-level-0);\n",
              "  border: .5pt solid var(--sklearn-color-unfitted-level-3);\n",
              "}\n",
              "\n",
              ".sk-estimator-doc-link.fitted span {\n",
              "  /* fitted */\n",
              "  background: var(--sklearn-color-fitted-level-0);\n",
              "  border: var(--sklearn-color-fitted-level-3);\n",
              "}\n",
              "\n",
              ".sk-estimator-doc-link:hover span {\n",
              "  display: block;\n",
              "}\n",
              "\n",
              "/* \"?\"-specific style due to the `<a>` HTML tag */\n",
              "\n",
              "#sk-container-id-1 a.estimator_doc_link {\n",
              "  float: right;\n",
              "  font-size: 1rem;\n",
              "  line-height: 1em;\n",
              "  font-family: monospace;\n",
              "  background-color: var(--sklearn-color-background);\n",
              "  border-radius: 1rem;\n",
              "  height: 1rem;\n",
              "  width: 1rem;\n",
              "  text-decoration: none;\n",
              "  /* unfitted */\n",
              "  color: var(--sklearn-color-unfitted-level-1);\n",
              "  border: var(--sklearn-color-unfitted-level-1) 1pt solid;\n",
              "}\n",
              "\n",
              "#sk-container-id-1 a.estimator_doc_link.fitted {\n",
              "  /* fitted */\n",
              "  border: var(--sklearn-color-fitted-level-1) 1pt solid;\n",
              "  color: var(--sklearn-color-fitted-level-1);\n",
              "}\n",
              "\n",
              "/* On hover */\n",
              "#sk-container-id-1 a.estimator_doc_link:hover {\n",
              "  /* unfitted */\n",
              "  background-color: var(--sklearn-color-unfitted-level-3);\n",
              "  color: var(--sklearn-color-background);\n",
              "  text-decoration: none;\n",
              "}\n",
              "\n",
              "#sk-container-id-1 a.estimator_doc_link.fitted:hover {\n",
              "  /* fitted */\n",
              "  background-color: var(--sklearn-color-fitted-level-3);\n",
              "}\n",
              "</style><div id=\"sk-container-id-1\" class=\"sk-top-container\"><div class=\"sk-text-repr-fallback\"><pre>LogisticRegression(max_iter=1000)</pre><b>In a Jupyter environment, please rerun this cell to show the HTML representation or trust the notebook. <br />On GitHub, the HTML representation is unable to render, please try loading this page with nbviewer.org.</b></div><div class=\"sk-container\" hidden><div class=\"sk-item\"><div class=\"sk-estimator fitted sk-toggleable\"><input class=\"sk-toggleable__control sk-hidden--visually\" id=\"sk-estimator-id-1\" type=\"checkbox\" checked><label for=\"sk-estimator-id-1\" class=\"sk-toggleable__label fitted sk-toggleable__label-arrow\"><div><div>LogisticRegression</div></div><div><a class=\"sk-estimator-doc-link fitted\" rel=\"noreferrer\" target=\"_blank\" href=\"https://scikit-learn.org/1.6/modules/generated/sklearn.linear_model.LogisticRegression.html\">?<span>Documentation for LogisticRegression</span></a><span class=\"sk-estimator-doc-link fitted\">i<span>Fitted</span></span></div></label><div class=\"sk-toggleable__content fitted\"><pre>LogisticRegression(max_iter=1000)</pre></div> </div></div></div></div>"
            ]
          },
          "metadata": {},
          "execution_count": 68
        }
      ]
    },
    {
      "cell_type": "code",
      "source": [
        "y_pred = lreg.predict(X_test)"
      ],
      "metadata": {
        "id": "jAzXTwmpkbo5"
      },
      "execution_count": null,
      "outputs": []
    },
    {
      "cell_type": "code",
      "source": [
        "print(classification_report(y_test, y_pred))"
      ],
      "metadata": {
        "colab": {
          "base_uri": "https://localhost:8080/"
        },
        "id": "mbOpySBDkfqt",
        "outputId": "ec8ebc7a-8301-44db-b814-86861f878082"
      },
      "execution_count": null,
      "outputs": [
        {
          "output_type": "stream",
          "name": "stdout",
          "text": [
            "              precision    recall  f1-score   support\n",
            "\n",
            "           0       0.95      0.84      0.89      2159\n",
            "           1       0.93      0.83      0.88      1937\n",
            "           2       0.87      0.97      0.91      5362\n",
            "           3       0.92      0.70      0.79      1304\n",
            "           4       0.89      0.95      0.92      4666\n",
            "           5       0.92      0.60      0.73       572\n",
            "\n",
            "    accuracy                           0.89     16000\n",
            "   macro avg       0.91      0.82      0.85     16000\n",
            "weighted avg       0.90      0.89      0.89     16000\n",
            "\n"
          ]
        }
      ]
    },
    {
      "cell_type": "markdown",
      "source": [
        "# Confusion Matrix"
      ],
      "metadata": {
        "id": "JF3FEm7slzHN"
      }
    },
    {
      "cell_type": "code",
      "source": [
        "import seaborn as sns\n",
        "import matplotlib.pyplot as plt\n",
        "from sklearn.metrics import confusion_matrix"
      ],
      "metadata": {
        "id": "TYl_89ZblzPh"
      },
      "execution_count": null,
      "outputs": []
    },
    {
      "cell_type": "code",
      "source": [
        "plt.figure(figsize = (10, 5))\n",
        "ax = sns.heatmap(confusion_matrix(y_test, y_pred), cmap = 'rocket_r', fmt = '.2f', annot = True)\n",
        "ax.set(xlabel = 'Predicted Class', ylabel = 'Actual Class')\n",
        "ax.xaxis.tick_top()\n",
        "plt.savefig('confusion_matrix.png', dpi = 400)\n",
        "plt.show()"
      ],
      "metadata": {
        "colab": {
          "base_uri": "https://localhost:8080/",
          "height": 465
        },
        "id": "qh-bdx6rlzzh",
        "outputId": "cb4986ad-2765-4a04-f019-ac478396b852"
      },
      "execution_count": null,
      "outputs": [
        {
          "output_type": "display_data",
          "data": {
            "text/plain": [
              "<Figure size 1000x500 with 2 Axes>"
            ],
            "image/png": "[encoded data removed]"
          },
          "metadata": {}
        }
      ]
    },
    {
      "cell_type": "markdown",
      "source": [
        "# ROC Curve"
      ],
      "metadata": {
        "id": "TvCfNmNel8xt"
      }
    },
    {
      "cell_type": "code",
      "source": [
        "from sklearn.metrics import roc_curve, auc"
      ],
      "metadata": {
        "id": "e5XOjvTyl2TV"
      },
      "execution_count": null,
      "outputs": []
    },
    {
      "cell_type": "code",
      "source": [
        "label_map = dict(zip(le.classes_, le.transform(le.classes_)))"
      ],
      "metadata": {
        "id": "Ln4yRAIdmEfd"
      },
      "execution_count": null,
      "outputs": []
    },
    {
      "cell_type": "code",
      "source": [
        "fpr = {}\n",
        "tpr = {}\n",
        "roc_auc = {}\n",
        "sns.set_theme(style = 'ticks')\n",
        "\n",
        "y_score = lreg.predict_proba(X_test)\n",
        "n_classes = len(lreg.classes_)\n",
        "\n",
        "plt.figure(figsize = (10, 5))\n",
        "\n",
        "for i in range(n_classes):\n",
        "  y_true_binary = (y_test == i).astype(int)\n",
        "  y_score_binary = y_score[:, i]\n",
        "\n",
        "  fpr[i], tpr[i], _ = roc_curve(y_true_binary, y_score_binary)\n",
        "  roc_auc[i] = auc(fpr[i], tpr[i])\n",
        "  plt.plot(fpr[i], tpr[i], label = f'Class {i} - {list(label_map.keys())[i].title()} (AUC = {roc_auc[i]:.2f})')\n",
        "\n",
        "plt.plot([0, 1], [0, 1], 'k--', lw =  2, label = 'Random Guess')\n",
        "plt.xlabel('False Positive Rate')\n",
        "plt.ylabel('True Positive Rate')\n",
        "plt.title('ROC Curve for Logistic Regression')\n",
        "plt.legend(loc = 'lower right')\n",
        "plt.savefig('ROC_Curve-TF-IDF.png', dpi = 400)\n",
        "plt.show()"
      ],
      "metadata": {
        "colab": {
          "base_uri": "https://localhost:8080/",
          "height": 496
        },
        "id": "DZT2PRS7l9R9",
        "outputId": "43da49eb-72c8-4821-9d8b-a00c628c7a21"
      },
      "execution_count": null,
      "outputs": [
        {
          "output_type": "display_data",
          "data": {
            "text/plain": [
              "<Figure size 1000x500 with 1 Axes>"
            ],
            "image/png": "[encoded data removed]"
          },
          "metadata": {}
        }
      ]
    },
    {
      "cell_type": "markdown",
      "source": [
        "# Export files"
      ],
      "metadata": {
        "id": "kgiCxS7YmiC1"
      }
    },
    {
      "cell_type": "code",
      "source": [
        "import joblib"
      ],
      "metadata": {
        "id": "2vwZgDwDnzSX"
      },
      "execution_count": 22,
      "outputs": []
    },
    {
      "cell_type": "code",
      "source": [
        "with open ('X_train_tfidf.pkl', 'wb') as f:\n",
        "  joblib.dump(X_train, f)\n",
        "\n",
        "with open ('X_test_tfidf.pkl', 'wb') as f:\n",
        "  joblib.dump(X_test, f)\n",
        "\n",
        "with open ('y_train_tfidf.pkl', 'wb') as f:\n",
        "  joblib.dump(y_train, f)\n",
        "\n",
        "with open ('y_test_tfidf.pkl', 'wb') as f:\n",
        "  joblib.dump(y_test, f)"
      ],
      "metadata": {
        "id": "5TlgCN32mjPP"
      },
      "execution_count": 23,
      "outputs": []
    }
  ]
}